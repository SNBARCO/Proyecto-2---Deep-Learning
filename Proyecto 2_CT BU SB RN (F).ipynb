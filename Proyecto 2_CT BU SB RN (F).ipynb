{
 "cells": [
  {
   "cell_type": "markdown",
   "metadata": {},
   "source": [
    "![image.png](attachment:image.png)\n",
    "\n",
    "\n",
    "Disponible en: http://groovychics.club/wp-content/uploads/2018/04/ohio-bird-calls-goldfinch-northwest-ohio-bird-calls.jpg\n",
    "\n",
    "# PROYECTO 2: Image Classification with CNN\n",
    "\n",
    "Blanca Ubaque - 201725992\t\t\n",
    "Carolina Trespalacios - 200313688\t\t\n",
    "Santiago Barco - 200913781\t\t\n",
    "Rafael Niño - 200522388\t\t"
   ]
  },
  {
   "cell_type": "markdown",
   "metadata": {},
   "source": [
    "# 1. Direct prediction\n",
    "   * Download the dataset birds from http://www-cvr.ai.uiuc.edu/ponce_grp/data/.\n",
    "   * Use [Keras](https://keras.io/) and a CNN from Keras [Applications](https://keras.io/applications/) pretrained on ImageNet, to classify the images in the birds dataset. Construct a confusion matrix that relates the bird classes with the 10 most frequent classes from ImageNet predicted by the model.\n",
    "   * Discuss the results."
   ]
  },
  {
   "cell_type": "code",
   "execution_count": 4,
   "metadata": {},
   "outputs": [],
   "source": [
    "from keras.preprocessing import image\n",
    "from keras.applications.inception_resnet_v2 \\\n",
    "    import preprocess_input\n",
    "import numpy as np\n",
    "import glob\n",
    "import os\n",
    "def load_data(path, pattern):\n",
    "    class_names={}\n",
    "    class_id=0\n",
    "    x = []\n",
    "    y = []\n",
    "    for d in glob.glob(os.path.join(path, '*')):\n",
    "        clname = os.path.basename(d)\n",
    "        for f in glob.glob(os.path.join(d, pattern)): \n",
    "            if not clname in class_names:\n",
    "                class_names[clname]=class_id \n",
    "                class_id += 1\n",
    "            img = image.load_img(f, target_size=(224, 224))\n",
    "            npi = image.img_to_array(img)     \n",
    "            npi = preprocess_input(npi)\n",
    "            x.append(npi)\n",
    "            y.append(class_names[clname])\n",
    "    return np.array(x), np.array(y), class_names"
   ]
  },
  {
   "cell_type": "code",
   "execution_count": 5,
   "metadata": {},
   "outputs": [],
   "source": [
    "path = '../birds/'"
   ]
  },
  {
   "cell_type": "code",
   "execution_count": 6,
   "metadata": {
    "scrolled": true
   },
   "outputs": [
    {
     "name": "stderr",
     "output_type": "stream",
     "text": [
      "/Users/santiagobarcogomez/anaconda3/lib/python3.6/site-packages/PIL/TiffImagePlugin.py:692: UserWarning: Possibly corrupt EXIF data.  Expecting to read 80000 bytes but only got 0. Skipping tag 64640\n",
      "  \" Skipping tag %s\" % (size, len(data), tag))\n",
      "/Users/santiagobarcogomez/anaconda3/lib/python3.6/site-packages/PIL/TiffImagePlugin.py:692: UserWarning: Possibly corrupt EXIF data.  Expecting to read 2652897280 bytes but only got 0. Skipping tag 2\n",
      "  \" Skipping tag %s\" % (size, len(data), tag))\n",
      "/Users/santiagobarcogomez/anaconda3/lib/python3.6/site-packages/PIL/TiffImagePlugin.py:692: UserWarning: Possibly corrupt EXIF data.  Expecting to read 2656043008 bytes but only got 0. Skipping tag 2\n",
      "  \" Skipping tag %s\" % (size, len(data), tag))\n",
      "/Users/santiagobarcogomez/anaconda3/lib/python3.6/site-packages/PIL/TiffImagePlugin.py:692: UserWarning: Possibly corrupt EXIF data.  Expecting to read 65536 bytes but only got 0. Skipping tag 3\n",
      "  \" Skipping tag %s\" % (size, len(data), tag))\n",
      "/Users/santiagobarcogomez/anaconda3/lib/python3.6/site-packages/PIL/TiffImagePlugin.py:692: UserWarning: Possibly corrupt EXIF data.  Expecting to read 334102528 bytes but only got 0. Skipping tag 5\n",
      "  \" Skipping tag %s\" % (size, len(data), tag))\n",
      "/Users/santiagobarcogomez/anaconda3/lib/python3.6/site-packages/PIL/TiffImagePlugin.py:692: UserWarning: Possibly corrupt EXIF data.  Expecting to read 334626816 bytes but only got 0. Skipping tag 5\n",
      "  \" Skipping tag %s\" % (size, len(data), tag))\n",
      "/Users/santiagobarcogomez/anaconda3/lib/python3.6/site-packages/PIL/TiffImagePlugin.py:692: UserWarning: Possibly corrupt EXIF data.  Expecting to read 131072 bytes but only got 0. Skipping tag 3\n",
      "  \" Skipping tag %s\" % (size, len(data), tag))\n",
      "/Users/santiagobarcogomez/anaconda3/lib/python3.6/site-packages/PIL/TiffImagePlugin.py:692: UserWarning: Possibly corrupt EXIF data.  Expecting to read 347602944 bytes but only got 0. Skipping tag 4\n",
      "  \" Skipping tag %s\" % (size, len(data), tag))\n",
      "/Users/santiagobarcogomez/anaconda3/lib/python3.6/site-packages/PIL/TiffImagePlugin.py:692: UserWarning: Possibly corrupt EXIF data.  Expecting to read 1982464 bytes but only got 5522. Skipping tag 0\n",
      "  \" Skipping tag %s\" % (size, len(data), tag))\n",
      "/Users/santiagobarcogomez/anaconda3/lib/python3.6/site-packages/PIL/TiffImagePlugin.py:692: UserWarning: Possibly corrupt EXIF data.  Expecting to read 999424 bytes but only got 5522. Skipping tag 513\n",
      "  \" Skipping tag %s\" % (size, len(data), tag))\n",
      "/Users/santiagobarcogomez/anaconda3/lib/python3.6/site-packages/PIL/TiffImagePlugin.py:692: UserWarning: Possibly corrupt EXIF data.  Expecting to read 3846701056 bytes but only got 0. Skipping tag 2\n",
      "  \" Skipping tag %s\" % (size, len(data), tag))\n",
      "/Users/santiagobarcogomez/anaconda3/lib/python3.6/site-packages/PIL/TiffImagePlugin.py:692: UserWarning: Possibly corrupt EXIF data.  Expecting to read 3300917248 bytes but only got 0. Skipping tag 7\n",
      "  \" Skipping tag %s\" % (size, len(data), tag))\n",
      "/Users/santiagobarcogomez/anaconda3/lib/python3.6/site-packages/PIL/TiffImagePlugin.py:692: UserWarning: Possibly corrupt EXIF data.  Expecting to read 196867 bytes but only got 5525. Skipping tag 0\n",
      "  \" Skipping tag %s\" % (size, len(data), tag))\n",
      "/Users/santiagobarcogomez/anaconda3/lib/python3.6/site-packages/PIL/TiffImagePlugin.py:709: UserWarning: Corrupt EXIF data.  Expecting to read 12 bytes but only got 8. \n",
      "  warnings.warn(str(msg))\n"
     ]
    }
   ],
   "source": [
    "x, y, class_names = load_data('birds', '*.jpg')"
   ]
  },
  {
   "cell_type": "code",
   "execution_count": 7,
   "metadata": {},
   "outputs": [
    {
     "name": "stdout",
     "output_type": "stream",
     "text": [
      "(600, 224, 224, 3) (600,) 6\n"
     ]
    }
   ],
   "source": [
    "print (x.shape, y.shape, len(class_names))"
   ]
  },
  {
   "cell_type": "code",
   "execution_count": 8,
   "metadata": {},
   "outputs": [
    {
     "data": {
      "text/plain": [
       "array([0, 0, 0, 0, 0, 0, 0, 0, 0, 0, 0, 0, 0, 0, 0, 0, 0, 0, 0, 0, 0, 0, 0,\n",
       "       0, 0, 0, 0, 0, 0, 0, 0, 0, 0, 0, 0, 0, 0, 0, 0, 0, 0, 0, 0, 0, 0, 0,\n",
       "       0, 0, 0, 0, 0, 0, 0, 0, 0, 0, 0, 0, 0, 0, 0, 0, 0, 0, 0, 0, 0, 0, 0,\n",
       "       0, 0, 0, 0, 0, 0, 0, 0, 0, 0, 0, 0, 0, 0, 0, 0, 0, 0, 0, 0, 0, 0, 0,\n",
       "       0, 0, 0, 0, 0, 0, 0, 0, 1, 1, 1, 1, 1, 1, 1, 1, 1, 1, 1, 1, 1, 1, 1,\n",
       "       1, 1, 1, 1, 1, 1, 1, 1, 1, 1, 1, 1, 1, 1, 1, 1, 1, 1, 1, 1, 1, 1, 1,\n",
       "       1, 1, 1, 1, 1, 1, 1, 1, 1, 1, 1, 1, 1, 1, 1, 1, 1, 1, 1, 1, 1, 1, 1,\n",
       "       1, 1, 1, 1, 1, 1, 1, 1, 1, 1, 1, 1, 1, 1, 1, 1, 1, 1, 1, 1, 1, 1, 1,\n",
       "       1, 1, 1, 1, 1, 1, 1, 1, 1, 1, 1, 1, 1, 1, 1, 1, 2, 2, 2, 2, 2, 2, 2,\n",
       "       2, 2, 2, 2, 2, 2, 2, 2, 2, 2, 2, 2, 2, 2, 2, 2, 2, 2, 2, 2, 2, 2, 2,\n",
       "       2, 2, 2, 2, 2, 2, 2, 2, 2, 2, 2, 2, 2, 2, 2, 2, 2, 2, 2, 2, 2, 2, 2,\n",
       "       2, 2, 2, 2, 2, 2, 2, 2, 2, 2, 2, 2, 2, 2, 2, 2, 2, 2, 2, 2, 2, 2, 2,\n",
       "       2, 2, 2, 2, 2, 2, 2, 2, 2, 2, 2, 2, 2, 2, 2, 2, 2, 2, 2, 2, 2, 2, 2,\n",
       "       2, 3, 3, 3, 3, 3, 3, 3, 3, 3, 3, 3, 3, 3, 3, 3, 3, 3, 3, 3, 3, 3, 3,\n",
       "       3, 3, 3, 3, 3, 3, 3, 3, 3, 3, 3, 3, 3, 3, 3, 3, 3, 3, 3, 3, 3, 3, 3,\n",
       "       3, 3, 3, 3, 3, 3, 3, 3, 3, 3, 3, 3, 3, 3, 3, 3, 3, 3, 3, 3, 3, 3, 3,\n",
       "       3, 3, 3, 3, 3, 3, 3, 3, 3, 3, 3, 3, 3, 3, 3, 3, 3, 3, 3, 3, 3, 3, 3,\n",
       "       3, 3, 3, 3, 3, 3, 3, 3, 3, 4, 4, 4, 4, 4, 4, 4, 4, 4, 4, 4, 4, 4, 4,\n",
       "       4, 4, 4, 4, 4, 4, 4, 4, 4, 4, 4, 4, 4, 4, 4, 4, 4, 4, 4, 4, 4, 4, 4,\n",
       "       4, 4, 4, 4, 4, 4, 4, 4, 4, 4, 4, 4, 4, 4, 4, 4, 4, 4, 4, 4, 4, 4, 4,\n",
       "       4, 4, 4, 4, 4, 4, 4, 4, 4, 4, 4, 4, 4, 4, 4, 4, 4, 4, 4, 4, 4, 4, 4,\n",
       "       4, 4, 4, 4, 4, 4, 4, 4, 4, 4, 4, 4, 4, 4, 4, 4, 4, 5, 5, 5, 5, 5, 5,\n",
       "       5, 5, 5, 5, 5, 5, 5, 5, 5, 5, 5, 5, 5, 5, 5, 5, 5, 5, 5, 5, 5, 5, 5,\n",
       "       5, 5, 5, 5, 5, 5, 5, 5, 5, 5, 5, 5, 5, 5, 5, 5, 5, 5, 5, 5, 5, 5, 5,\n",
       "       5, 5, 5, 5, 5, 5, 5, 5, 5, 5, 5, 5, 5, 5, 5, 5, 5, 5, 5, 5, 5, 5, 5,\n",
       "       5, 5, 5, 5, 5, 5, 5, 5, 5, 5, 5, 5, 5, 5, 5, 5, 5, 5, 5, 5, 5, 5, 5,\n",
       "       5, 5])"
      ]
     },
     "execution_count": 8,
     "metadata": {},
     "output_type": "execute_result"
    }
   ],
   "source": [
    "y"
   ]
  },
  {
   "cell_type": "code",
   "execution_count": 9,
   "metadata": {},
   "outputs": [
    {
     "name": "stdout",
     "output_type": "stream",
     "text": [
      "[[[[ 0.17647064  0.13725495  0.18431377]\n",
      "   [-0.44313723 -0.51372552 -0.56862748]\n",
      "   [-0.04313725 -0.11372548 -0.24705881]\n",
      "   ..., \n",
      "   [-0.13725489 -0.13725489 -0.32549018]\n",
      "   [-0.23137254 -0.19215685 -0.42745095]\n",
      "   [-0.42745095 -0.34901959 -0.62352943]]\n",
      "\n",
      "  [[-0.2235294  -0.25490195 -0.26274508]\n",
      "   [-0.45098037 -0.51372552 -0.60000002]\n",
      "   [-0.13725489 -0.19999999 -0.36470586]\n",
      "   ..., \n",
      "   [-0.0745098  -0.08235294 -0.24705881]\n",
      "   [-0.19999999 -0.16862744 -0.36470586]\n",
      "   [-0.41960782 -0.34117645 -0.60784316]]\n",
      "\n",
      "  [[-0.50588238 -0.52941179 -0.58431375]\n",
      "   [ 0.06666672  0.01176476 -0.12941176]\n",
      "   [-0.0745098  -0.12941176 -0.34901959]\n",
      "   ..., \n",
      "   [-0.06666666 -0.0745098  -0.21568626]\n",
      "   [-0.16862744 -0.13725489 -0.31764704]\n",
      "   [-0.35686272 -0.28627449 -0.51372552]]\n",
      "\n",
      "  ..., \n",
      "  [[-0.38823527 -0.38039213 -0.63137257]\n",
      "   [-0.36470586 -0.33333331 -0.52941179]\n",
      "   [-0.48235291 -0.42745095 -0.56862748]\n",
      "   ..., \n",
      "   [-0.29411763 -0.26274508 -0.39607841]\n",
      "   [-0.38823527 -0.36470586 -0.45098037]\n",
      "   [-0.56862748 -0.5529412  -0.57647061]]\n",
      "\n",
      "  [[-0.38039213 -0.372549   -0.62352943]\n",
      "   [-0.43529409 -0.40392154 -0.60000002]\n",
      "   [-0.44313723 -0.38823527 -0.52941179]\n",
      "   ..., \n",
      "   [-0.23921567 -0.20784312 -0.34117645]\n",
      "   [-0.38823527 -0.36470586 -0.45098037]\n",
      "   [-0.56078434 -0.54509807 -0.56862748]]\n",
      "\n",
      "  [[-0.39607841 -0.38823527 -0.63921571]\n",
      "   [-0.43529409 -0.40392154 -0.60000002]\n",
      "   [-0.46666664 -0.41176468 -0.5529412 ]\n",
      "   ..., \n",
      "   [-0.1607843  -0.12941176 -0.26274508]\n",
      "   [-0.36470586 -0.34117645 -0.42745095]\n",
      "   [-0.52941179 -0.51372552 -0.53725493]]]\n",
      "\n",
      "\n",
      " [[[-0.19215685 -0.02745098 -0.06666666]\n",
      "   [-0.17647058  0.00392163 -0.04313725]\n",
      "   [-0.16862744  0.01176476 -0.03529412]\n",
      "   ..., \n",
      "   [-0.09803921  0.02745104  0.0196079 ]\n",
      "   [-0.05882353  0.06666672  0.04313731]\n",
      "   [-0.0745098   0.05098045  0.02745104]]\n",
      "\n",
      "  [[-0.1607843   0.03529418 -0.01176471]\n",
      "   [-0.14509803  0.0196079  -0.01960784]\n",
      "   [-0.13725489  0.04313731 -0.00392157]\n",
      "   ..., \n",
      "   [-0.11372548  0.01176476 -0.01176471]\n",
      "   [-0.12156862  0.00392163 -0.01960784]\n",
      "   [-0.10588235  0.0196079  -0.00392157]]\n",
      "\n",
      "  [[-0.12941176  0.0196079  -0.01176471]\n",
      "   [-0.1607843   0.00392163 -0.03529412]\n",
      "   [-0.12156862  0.02745104 -0.00392157]\n",
      "   ..., \n",
      "   [-0.23921567 -0.10588235 -0.15294117]\n",
      "   [-0.23137254 -0.10588235 -0.12941176]\n",
      "   [-0.21568626 -0.08235294 -0.12941176]]\n",
      "\n",
      "  ..., \n",
      "  [[-0.31764704 -0.27843136 -0.33333331]\n",
      "   [-0.34117645 -0.30196077 -0.34901959]\n",
      "   [-0.34901959 -0.29411763 -0.34901959]\n",
      "   ..., \n",
      "   [ 0.09803927  0.12156868  0.05098045]\n",
      "   [-0.17647058 -0.09019607 -0.19999999]\n",
      "   [ 0.06666672  0.12156868 -0.01960784]]\n",
      "\n",
      "  [[-0.23137254 -0.2235294  -0.26274508]\n",
      "   [-0.23137254 -0.20784312 -0.26274508]\n",
      "   [-0.23137254 -0.20784312 -0.26274508]\n",
      "   ..., \n",
      "   [ 0.14509809  0.16078436  0.12156868]\n",
      "   [-0.06666666  0.0196079  -0.11372548]\n",
      "   [-0.2235294  -0.13725489 -0.27058822]]\n",
      "\n",
      "  [[-0.14509803 -0.14509803 -0.1607843 ]\n",
      "   [-0.19215685 -0.15294117 -0.19999999]\n",
      "   [-0.1607843  -0.14509803 -0.16862744]\n",
      "   ..., \n",
      "   [ 0.19215691  0.21568632  0.14509809]\n",
      "   [ 0.01176476  0.09803927 -0.03529412]\n",
      "   [-0.17647058 -0.08235294 -0.23921567]]]\n",
      "\n",
      "\n",
      " [[[-0.96862745 -0.96862745 -0.98431373]\n",
      "   [-0.96078432 -0.95294118 -1.        ]\n",
      "   [-0.95294118 -0.95294118 -0.96862745]\n",
      "   ..., \n",
      "   [-0.96078432 -0.95294118 -0.99215686]\n",
      "   [-0.9137255  -0.93725491 -0.97647059]\n",
      "   [-0.90588236 -0.94509804 -0.96862745]]\n",
      "\n",
      "  [[-0.96862745 -0.96862745 -0.98431373]\n",
      "   [-0.95294118 -0.94509804 -0.99215686]\n",
      "   [-0.95294118 -0.95294118 -0.96862745]\n",
      "   ..., \n",
      "   [-0.96862745 -0.96078432 -1.        ]\n",
      "   [-0.92156863 -0.95294118 -0.97647059]\n",
      "   [-0.88235295 -0.92156863 -0.95294118]]\n",
      "\n",
      "  [[-0.96078432 -0.96078432 -0.97647059]\n",
      "   [-0.95294118 -0.96078432 -1.        ]\n",
      "   [-0.96078432 -0.96078432 -0.97647059]\n",
      "   ..., \n",
      "   [-0.97647059 -0.96078432 -1.        ]\n",
      "   [-0.92941177 -0.96078432 -0.96862745]\n",
      "   [-0.89803922 -0.92941177 -0.95294118]]\n",
      "\n",
      "  ..., \n",
      "  [[-0.7019608  -0.70980394 -0.92941177]\n",
      "   [-0.67058825 -0.7019608  -0.89803922]\n",
      "   [-0.67058825 -0.71764708 -0.90588236]\n",
      "   ..., \n",
      "   [-0.54509807 -0.59215689 -0.7647059 ]\n",
      "   [-0.53725493 -0.56862748 -0.7647059 ]\n",
      "   [-0.48235291 -0.51372552 -0.70980394]]\n",
      "\n",
      "  [[-0.7019608  -0.70980394 -0.92941177]\n",
      "   [-0.66274512 -0.69411767 -0.90588236]\n",
      "   [-0.69411767 -0.7019608  -0.92156863]\n",
      "   ..., \n",
      "   [-0.56078434 -0.60784316 -0.78039217]\n",
      "   [-0.59215689 -0.63137257 -0.80392158]\n",
      "   [-0.57647061 -0.6156863  -0.78823531]]\n",
      "\n",
      "  [[-0.69411767 -0.70980394 -0.90588236]\n",
      "   [-0.67058825 -0.7019608  -0.89803922]\n",
      "   [-0.66274512 -0.70980394 -0.89803922]\n",
      "   ..., \n",
      "   [-0.63137257 -0.67058825 -0.84313726]\n",
      "   [-0.60784316 -0.64705884 -0.81960785]\n",
      "   [-0.59215689 -0.63137257 -0.78823531]]]\n",
      "\n",
      "\n",
      " ..., \n",
      " [[[ 0.94509804  0.97647059  0.98431373]\n",
      "   [ 0.89803922  0.92941177  0.92156863]\n",
      "   [ 0.94509804  0.94509804  0.94509804]\n",
      "   ..., \n",
      "   [ 0.92156863  0.92156863  0.92156863]\n",
      "   [ 0.88235295  0.88235295  0.88235295]\n",
      "   [ 0.99215686  0.99215686  0.99215686]]\n",
      "\n",
      "  [[ 0.89019608  0.92156863  0.92941177]\n",
      "   [ 0.74117649  0.75686276  0.74901962]\n",
      "   [ 0.70980394  0.70980394  0.70980394]\n",
      "   ..., \n",
      "   [ 0.58431375  0.58431375  0.58431375]\n",
      "   [ 0.67843139  0.67843139  0.67843139]\n",
      "   [ 0.88235295  0.88235295  0.88235295]]\n",
      "\n",
      "  [[ 0.89019608  0.92156863  0.92941177]\n",
      "   [ 0.74117649  0.75686276  0.74901962]\n",
      "   [ 0.70980394  0.70980394  0.70980394]\n",
      "   ..., \n",
      "   [ 0.58431375  0.58431375  0.58431375]\n",
      "   [ 0.67843139  0.67843139  0.67843139]\n",
      "   [ 0.88235295  0.88235295  0.88235295]]\n",
      "\n",
      "  ..., \n",
      "  [[ 0.96078432  0.95294118  0.92156863]\n",
      "   [ 0.78039217  0.77254903  0.73333335]\n",
      "   [ 0.6156863   0.59215689  0.5529412 ]\n",
      "   ..., \n",
      "   [ 0.7019608   0.67843139  0.60784316]\n",
      "   [ 0.82745099  0.81960785  0.78039217]\n",
      "   [ 0.96862745  0.96078432  0.94509804]]\n",
      "\n",
      "  [[ 0.96078432  0.95294118  0.92156863]\n",
      "   [ 0.78039217  0.77254903  0.73333335]\n",
      "   [ 0.6156863   0.59215689  0.5529412 ]\n",
      "   ..., \n",
      "   [ 0.7019608   0.67843139  0.60784316]\n",
      "   [ 0.82745099  0.81960785  0.78039217]\n",
      "   [ 0.96862745  0.96078432  0.94509804]]\n",
      "\n",
      "  [[ 0.96862745  0.96078432  0.92941177]\n",
      "   [ 0.80392158  0.79607844  0.7647059 ]\n",
      "   [ 0.63921571  0.6156863   0.57647061]\n",
      "   ..., \n",
      "   [ 0.68627453  0.68627453  0.60784316]\n",
      "   [ 0.82745099  0.81960785  0.78039217]\n",
      "   [ 0.96862745  0.96078432  0.94509804]]]\n",
      "\n",
      "\n",
      " [[[-0.79607844 -0.74117649 -0.67843139]\n",
      "   [-0.77254903 -0.7019608  -0.64705884]\n",
      "   [-0.75686276 -0.7019608  -0.63921571]\n",
      "   ..., \n",
      "   [-0.83529413 -0.7647059  -0.70980394]\n",
      "   [-0.81176472 -0.74117649 -0.68627453]\n",
      "   [-0.79607844 -0.74117649 -0.67843139]]\n",
      "\n",
      "  [[-0.7647059  -0.66274512 -0.6156863 ]\n",
      "   [-0.56078434 -0.49019605 -0.43529409]\n",
      "   [-0.48235291 -0.38039213 -0.31764704]\n",
      "   ..., \n",
      "   [-0.6156863  -0.53725493 -0.46666664]\n",
      "   [-0.57647061 -0.47450978 -0.41176468]\n",
      "   [-0.60784316 -0.49803919 -0.47450978]]\n",
      "\n",
      "  [[-0.75686276 -0.63921571 -0.60000002]\n",
      "   [-0.49019605 -0.40392154 -0.35686272]\n",
      "   [-0.49019605 -0.38039213 -0.3098039 ]\n",
      "   ..., \n",
      "   [-0.65490198 -0.5529412  -0.49019605]\n",
      "   [-0.60000002 -0.48235291 -0.42745095]\n",
      "   [-0.56862748 -0.45098037 -0.41176468]]\n",
      "\n",
      "  ..., \n",
      "  [[-0.85882354 -0.78039217 -0.7647059 ]\n",
      "   [-0.67058825 -0.59215689 -0.58431375]\n",
      "   [-0.66274512 -0.58431375 -0.56862748]\n",
      "   ..., \n",
      "   [-0.80392158 -0.75686276 -0.77254903]\n",
      "   [-0.78823531 -0.71764708 -0.74117649]\n",
      "   [-0.70980394 -0.66274512 -0.67843139]]\n",
      "\n",
      "  [[-0.86666667 -0.78823531 -0.77254903]\n",
      "   [-0.66274512 -0.58431375 -0.56862748]\n",
      "   [-0.67843139 -0.60000002 -0.59215689]\n",
      "   ..., \n",
      "   [-0.81176472 -0.7647059  -0.78039217]\n",
      "   [-0.77254903 -0.72549021 -0.72549021]\n",
      "   [-0.73333335 -0.68627453 -0.7019608 ]]\n",
      "\n",
      "  [[-0.95294118 -0.88235295 -0.84313726]\n",
      "   [-0.69411767 -0.6156863  -0.60000002]\n",
      "   [-0.69411767 -0.6156863  -0.60784316]\n",
      "   ..., \n",
      "   [-0.79607844 -0.74901962 -0.7647059 ]\n",
      "   [-0.73333335 -0.68627453 -0.7019608 ]\n",
      "   [-0.7647059  -0.71764708 -0.73333335]]]\n",
      "\n",
      "\n",
      " [[[-0.21568626 -0.25490195 -0.20784312]\n",
      "   [-0.23921567 -0.27843136 -0.23137254]\n",
      "   [-0.23137254 -0.27058822 -0.21568626]\n",
      "   ..., \n",
      "   [-0.09803921  0.14509809  0.57647061]\n",
      "   [-0.08235294  0.16078436  0.58431375]\n",
      "   [-0.0745098   0.1686275   0.60000002]]\n",
      "\n",
      "  [[-0.27843136 -0.33333331 -0.27058822]\n",
      "   [-0.28627449 -0.34117645 -0.27843136]\n",
      "   [-0.27058822 -0.32549018 -0.26274508]\n",
      "   ..., \n",
      "   [-0.11372548  0.16078436  0.58431375]\n",
      "   [-0.12156862  0.13725495  0.5529412 ]\n",
      "   [-0.11372548  0.1686275   0.57647061]]\n",
      "\n",
      "  [[-0.30196077 -0.35686272 -0.29411763]\n",
      "   [-0.27843136 -0.33333331 -0.27058822]\n",
      "   [-0.24705881 -0.30196077 -0.24705881]\n",
      "   ..., \n",
      "   [-0.10588235  0.17647064  0.63137257]\n",
      "   [-0.11372548  0.16078436  0.60000002]\n",
      "   [-0.09803921  0.19215691  0.62352943]]\n",
      "\n",
      "  ..., \n",
      "  [[-0.27058822 -0.35686272 -0.3098039 ]\n",
      "   [-0.24705881 -0.36470586 -0.3098039 ]\n",
      "   [-0.27843136 -0.36470586 -0.31764704]\n",
      "   ..., \n",
      "   [-0.08235294  0.09019613  0.47450984]\n",
      "   [-0.05882353  0.06666672  0.47450984]\n",
      "   [-0.12156862  0.05098045  0.37254906]]\n",
      "\n",
      "  [[-0.30196077 -0.38823527 -0.32549018]\n",
      "   [-0.24705881 -0.36470586 -0.3098039 ]\n",
      "   [-0.28627449 -0.372549   -0.32549018]\n",
      "   ..., \n",
      "   [-0.09803921  0.11372554  0.48235297]\n",
      "   [-0.0745098   0.07450986  0.51372552]\n",
      "   [-0.11372548  0.07450986  0.41960788]]\n",
      "\n",
      "  [[-0.2235294  -0.3098039  -0.24705881]\n",
      "   [-0.1607843  -0.27843136 -0.2235294 ]\n",
      "   [-0.18431371 -0.27058822 -0.2235294 ]\n",
      "   ..., \n",
      "   [-0.09803921  0.12156868  0.49803925]\n",
      "   [-0.0745098   0.09019613  0.52156866]\n",
      "   [-0.12941176  0.082353    0.45098042]]]]\n"
     ]
    }
   ],
   "source": [
    "print(x)"
   ]
  },
  {
   "cell_type": "code",
   "execution_count": 10,
   "metadata": {},
   "outputs": [],
   "source": [
    "from sklearn.model_selection import train_test_split\n",
    "X_train, X_test, y_train, y_test = train_test_split(x, y, test_size=0.3, random_state=42)"
   ]
  },
  {
   "cell_type": "code",
   "execution_count": 11,
   "metadata": {},
   "outputs": [
    {
     "name": "stdout",
     "output_type": "stream",
     "text": [
      "(420, 224, 224, 3) (420,) 6\n"
     ]
    }
   ],
   "source": [
    "print (X_train.shape, y_train.shape, len(class_names))"
   ]
  },
  {
   "cell_type": "code",
   "execution_count": 12,
   "metadata": {},
   "outputs": [
    {
     "name": "stdout",
     "output_type": "stream",
     "text": [
      "(180, 224, 224, 3) (180,) 6\n"
     ]
    }
   ],
   "source": [
    "print (X_test.shape, y_test.shape, len(class_names))"
   ]
  },
  {
   "cell_type": "code",
   "execution_count": 13,
   "metadata": {},
   "outputs": [
    {
     "data": {
      "text/plain": [
       "(224, 224, 3)"
      ]
     },
     "execution_count": 13,
     "metadata": {},
     "output_type": "execute_result"
    }
   ],
   "source": [
    "X_train[0].shape"
   ]
  },
  {
   "cell_type": "code",
   "execution_count": 14,
   "metadata": {},
   "outputs": [
    {
     "data": {
      "text/plain": [
       "array([1, 2, 5, 4, 4, 3, 3, 4, 3, 2, 4, 5, 0, 2, 4, 2, 4, 3, 5, 1, 1, 4, 4,\n",
       "       1, 2, 2, 2, 2, 2, 4, 5, 5, 5, 1, 2, 1, 3, 0, 5, 0, 1, 4, 0, 3, 3, 4,\n",
       "       3, 3, 0, 3, 0, 4, 2, 4, 5, 0, 4, 2, 4, 2, 5, 3, 4, 1, 1, 3, 5, 4, 1,\n",
       "       0, 1, 0, 1, 5, 0, 0, 3, 2, 0, 2, 2, 3, 5, 1, 3, 5, 2, 0, 1, 3, 3, 3,\n",
       "       0, 0, 3, 5, 4, 0, 0, 5, 4, 0, 4, 4, 3, 4, 3, 2, 0, 4, 2, 0, 2, 0, 1,\n",
       "       2, 5, 1, 5, 3, 1, 5, 5, 5, 0, 3, 1, 3, 1, 1, 1, 5, 3, 4, 3, 1, 3, 0,\n",
       "       4, 5, 1, 3, 4, 4, 2, 3, 3, 3, 4, 0, 3, 0, 1, 2, 3, 5, 0, 1, 3, 3, 2,\n",
       "       5, 2, 1, 2, 5, 5, 0, 4, 3, 1, 3, 1, 4, 5, 1, 4, 3, 3, 5, 1, 5, 0, 1,\n",
       "       2, 4, 0, 3, 2, 2, 4, 1, 1, 2, 3, 2, 5, 4, 4, 4, 5, 3, 1, 5, 2, 3, 0,\n",
       "       2, 1, 5, 3, 4, 5, 3, 5, 4, 3, 5, 2, 5, 4, 4, 1, 1, 4, 4, 4, 3, 3, 1,\n",
       "       5, 2, 3, 5, 1, 3, 1, 4, 1, 5, 2, 2, 1, 1, 4, 3, 3, 2, 5, 4, 3, 1, 5,\n",
       "       2, 5, 0, 1, 5, 4, 1, 4, 0, 1, 0, 2, 0, 2, 1, 3, 1, 0, 0, 0, 1, 1, 2,\n",
       "       4, 4, 2, 5, 0, 0, 2, 5, 3, 5, 1, 4, 5, 0, 5, 5, 2, 3, 2, 3, 3, 2, 2,\n",
       "       0, 2, 5, 5, 4, 1, 2, 4, 5, 5, 2, 3, 1, 0, 2, 2, 0, 4, 0, 0, 4, 2, 3,\n",
       "       2, 1, 0, 5, 5, 2, 4, 2, 3, 2, 4, 3, 4, 1, 0, 4, 1, 5, 5, 0, 0, 1, 0,\n",
       "       4, 3, 1, 2, 0, 3, 2, 2, 4, 4, 5, 2, 2, 1, 4, 4, 1, 3, 0, 5, 0, 2, 0,\n",
       "       5, 4, 4, 3, 0, 3, 3, 2, 0, 3, 3, 2, 1, 5, 4, 5, 5, 2, 5, 1, 4, 5, 0,\n",
       "       4, 5, 2, 0, 3, 4, 1, 2, 1, 3, 4, 4, 3, 3, 1, 0, 3, 0, 4, 3, 2, 4, 1,\n",
       "       0, 0, 1, 2, 4, 1])"
      ]
     },
     "execution_count": 14,
     "metadata": {},
     "output_type": "execute_result"
    }
   ],
   "source": [
    "y_train"
   ]
  },
  {
   "cell_type": "code",
   "execution_count": 15,
   "metadata": {},
   "outputs": [],
   "source": [
    "from keras.datasets import cifar10\n",
    "from keras.utils import np_utils\n",
    "import pandas as pd\n",
    "import numpy as np\n",
    "import matplotlib.pyplot as plt\n",
    "import matplotlib.image as mpimg\n",
    "%matplotlib inline"
   ]
  },
  {
   "cell_type": "code",
   "execution_count": 14,
   "metadata": {},
   "outputs": [],
   "source": [
    "from keras.models import Sequential\n",
    "from keras.layers import Dense, Dropout, Activation, Flatten\n",
    "from keras.layers import Conv2D, MaxPooling2D\n",
    "from livelossplot import PlotLossesKeras"
   ]
  },
  {
   "cell_type": "markdown",
   "metadata": {},
   "source": [
    "### Categorias de las clases de Y"
   ]
  },
  {
   "cell_type": "code",
   "execution_count": 15,
   "metadata": {},
   "outputs": [],
   "source": [
    "from keras.utils import np_utils\n",
    "nb_classes = y_train.max() + 1\n",
    "Y_train = np_utils.to_categorical(y_train, nb_classes)\n",
    "Y_test = np_utils.to_categorical(y_test, nb_classes)"
   ]
  },
  {
   "cell_type": "code",
   "execution_count": 16,
   "metadata": {},
   "outputs": [
    {
     "data": {
      "text/plain": [
       "6"
      ]
     },
     "execution_count": 16,
     "metadata": {},
     "output_type": "execute_result"
    }
   ],
   "source": [
    "nb_classes"
   ]
  },
  {
   "cell_type": "markdown",
   "metadata": {},
   "source": [
    "### 1.1 Modelo con Keras"
   ]
  },
  {
   "cell_type": "code",
   "execution_count": 17,
   "metadata": {},
   "outputs": [],
   "source": [
    "from keras.layers import Dropout\n",
    "\n",
    "model = Sequential()\n",
    "model.add(Flatten(input_shape=(224,224,3)))\n",
    "model.add(Dense(6))\n",
    "model.add(Activation('softmax'))\n",
    "\n",
    "model.add(Dropout(0.2))\n",
    "model.add(Dense(6))\n",
    "model.add(Activation('softmax'))\n",
    "#model.summary(70)"
   ]
  },
  {
   "cell_type": "code",
   "execution_count": 18,
   "metadata": {},
   "outputs": [],
   "source": [
    "from keras.optimizers import SGD\n",
    "\n",
    "model.compile(loss='categorical_crossentropy',\n",
    "              optimizer=SGD(),\n",
    "              metrics=['accuracy'])"
   ]
  },
  {
   "cell_type": "code",
   "execution_count": 19,
   "metadata": {},
   "outputs": [
    {
     "name": "stdout",
     "output_type": "stream",
     "text": [
      "Epoch 1/60\n",
      " - 1s - loss: 1.7248 - acc: 0.2190\n",
      "Epoch 2/60\n",
      " - 1s - loss: 1.6641 - acc: 0.2524\n",
      "Epoch 3/60\n",
      " - 0s - loss: 1.6505 - acc: 0.2929\n",
      "Epoch 4/60\n",
      " - 0s - loss: 1.6183 - acc: 0.3357\n",
      "Epoch 5/60\n",
      " - 1s - loss: 1.6003 - acc: 0.3667\n",
      "Epoch 6/60\n",
      " - 0s - loss: 1.5987 - acc: 0.3452\n",
      "Epoch 7/60\n",
      " - 0s - loss: 1.6428 - acc: 0.3643\n",
      "Epoch 8/60\n",
      " - 0s - loss: 1.5984 - acc: 0.3619\n",
      "Epoch 9/60\n",
      " - 0s - loss: 1.5811 - acc: 0.3762\n",
      "Epoch 10/60\n",
      " - 0s - loss: 1.5621 - acc: 0.4333\n",
      "Epoch 11/60\n",
      " - 0s - loss: 1.5525 - acc: 0.4143\n",
      "Epoch 12/60\n",
      " - 0s - loss: 1.5465 - acc: 0.4167\n",
      "Epoch 13/60\n",
      " - 0s - loss: 1.5264 - acc: 0.4548\n",
      "Epoch 14/60\n",
      " - 0s - loss: 1.5378 - acc: 0.4190\n",
      "Epoch 15/60\n",
      " - 0s - loss: 1.5052 - acc: 0.4524\n",
      "Epoch 16/60\n",
      " - 0s - loss: 1.5033 - acc: 0.4524\n",
      "Epoch 17/60\n",
      " - 0s - loss: 1.5084 - acc: 0.4548\n",
      "Epoch 18/60\n",
      " - 0s - loss: 1.4796 - acc: 0.4714\n",
      "Epoch 19/60\n",
      " - 0s - loss: 1.4811 - acc: 0.4595\n",
      "Epoch 20/60\n",
      " - 0s - loss: 1.4740 - acc: 0.4714\n",
      "Epoch 21/60\n",
      " - 0s - loss: 1.4550 - acc: 0.4881\n",
      "Epoch 22/60\n",
      " - 0s - loss: 1.4511 - acc: 0.4738\n",
      "Epoch 23/60\n",
      " - 0s - loss: 1.7221 - acc: 0.2786\n",
      "Epoch 24/60\n",
      " - 0s - loss: 1.5450 - acc: 0.3905\n",
      "Epoch 25/60\n",
      " - 0s - loss: 1.5571 - acc: 0.3667\n",
      "Epoch 26/60\n",
      " - 0s - loss: 1.5069 - acc: 0.3976\n",
      "Epoch 27/60\n",
      " - 0s - loss: 1.4848 - acc: 0.4333\n",
      "Epoch 28/60\n",
      " - 0s - loss: 1.4982 - acc: 0.4143\n",
      "Epoch 29/60\n",
      " - 0s - loss: 1.4367 - acc: 0.4762\n",
      "Epoch 30/60\n",
      " - 0s - loss: 1.4340 - acc: 0.4714\n",
      "Epoch 31/60\n",
      " - 0s - loss: 1.4222 - acc: 0.5071\n",
      "Epoch 32/60\n",
      " - 0s - loss: 1.4139 - acc: 0.5167\n",
      "Epoch 33/60\n",
      " - 0s - loss: 1.3893 - acc: 0.5238\n",
      "Epoch 34/60\n",
      " - 0s - loss: 1.3905 - acc: 0.5286\n",
      "Epoch 35/60\n",
      " - 0s - loss: 1.3891 - acc: 0.5500\n",
      "Epoch 36/60\n",
      " - 0s - loss: 1.3710 - acc: 0.5810\n",
      "Epoch 37/60\n",
      " - 0s - loss: 1.3664 - acc: 0.5833\n",
      "Epoch 38/60\n",
      " - 0s - loss: 1.3911 - acc: 0.5714\n",
      "Epoch 39/60\n",
      " - 0s - loss: 1.3854 - acc: 0.5167\n",
      "Epoch 40/60\n",
      " - 0s - loss: 1.3531 - acc: 0.5714\n",
      "Epoch 41/60\n",
      " - 0s - loss: 1.3731 - acc: 0.5357\n",
      "Epoch 42/60\n",
      " - 0s - loss: 1.3568 - acc: 0.5810\n",
      "Epoch 43/60\n",
      " - 0s - loss: 1.3417 - acc: 0.5786\n",
      "Epoch 44/60\n",
      " - 0s - loss: 1.3366 - acc: 0.5738\n",
      "Epoch 45/60\n",
      " - 0s - loss: 1.3195 - acc: 0.5762\n",
      "Epoch 46/60\n",
      " - 0s - loss: 1.3068 - acc: 0.5786\n",
      "Epoch 47/60\n",
      " - 0s - loss: 1.3190 - acc: 0.5571\n",
      "Epoch 48/60\n",
      " - 0s - loss: 1.3270 - acc: 0.5405\n",
      "Epoch 49/60\n",
      " - 0s - loss: 1.3073 - acc: 0.5524\n",
      "Epoch 50/60\n",
      " - 0s - loss: 1.3122 - acc: 0.5619\n",
      "Epoch 51/60\n",
      " - 0s - loss: 1.2928 - acc: 0.5643\n",
      "Epoch 52/60\n",
      " - 0s - loss: 1.3765 - acc: 0.4762\n",
      "Epoch 53/60\n",
      " - 0s - loss: 1.2913 - acc: 0.5738\n",
      "Epoch 54/60\n",
      " - 0s - loss: 1.2989 - acc: 0.5786\n",
      "Epoch 55/60\n",
      " - 0s - loss: 1.2605 - acc: 0.5714\n",
      "Epoch 56/60\n",
      " - 0s - loss: 1.2765 - acc: 0.5548\n",
      "Epoch 57/60\n",
      " - 0s - loss: 1.3003 - acc: 0.5548\n",
      "Epoch 58/60\n",
      " - 0s - loss: 1.2560 - acc: 0.6071\n",
      "Epoch 59/60\n",
      " - 0s - loss: 1.2556 - acc: 0.5643\n",
      "Epoch 60/60\n",
      " - 0s - loss: 1.2722 - acc: 0.5810\n"
     ]
    },
    {
     "data": {
      "text/plain": [
       "<keras.callbacks.History at 0xd5c67b8da0>"
      ]
     },
     "execution_count": 19,
     "metadata": {},
     "output_type": "execute_result"
    }
   ],
   "source": [
    "model.fit(X_train,Y_train,epochs=60,verbose=2)"
   ]
  },
  {
   "cell_type": "code",
   "execution_count": 20,
   "metadata": {},
   "outputs": [
    {
     "data": {
      "text/plain": [
       "array([4, 2, 5, 3, 3, 2, 2, 2, 2, 3, 2, 4, 4, 5, 3, 2, 5, 2, 4, 2, 3, 3,\n",
       "       1, 5, 3, 1, 2, 4, 1, 4, 4, 2, 4, 2, 4, 4, 2, 1, 4, 4, 3, 2, 5, 3,\n",
       "       4, 3, 4, 2, 0, 3, 1, 2, 4, 3, 3, 2, 2, 5, 3, 4, 0, 4, 4, 5, 5, 2,\n",
       "       5, 5, 2, 3, 1, 2, 2, 4, 4, 3, 1, 3, 1, 4, 2, 4, 5, 5, 2, 3, 4, 2,\n",
       "       3, 2, 2, 3, 2, 2, 2, 2, 2, 3, 4, 3, 2, 2, 5, 3, 0, 4, 1, 2, 2, 4,\n",
       "       4, 4, 3, 5, 3, 3, 5, 1, 4, 4, 3, 0, 3, 5, 4, 1, 5, 2, 3, 4, 4, 1,\n",
       "       1, 4, 5, 4, 2, 2, 2, 2, 4, 2, 5, 3, 4, 4, 3, 4, 2, 5, 5, 0, 5, 5,\n",
       "       3, 4, 2, 4, 2, 2, 3, 2, 3, 4, 5, 4, 4, 2, 5, 2, 1, 2, 5, 4, 4, 2,\n",
       "       4, 2, 4, 2], dtype=int64)"
      ]
     },
     "execution_count": 20,
     "metadata": {},
     "output_type": "execute_result"
    }
   ],
   "source": [
    "# make predictions for testing set\n",
    "y_pred = model.predict_classes(X_test)\n",
    "y_pred"
   ]
  },
  {
   "cell_type": "code",
   "execution_count": 21,
   "metadata": {},
   "outputs": [],
   "source": [
    "Ynew=Y_test.argmax(axis=1)"
   ]
  },
  {
   "cell_type": "code",
   "execution_count": 22,
   "metadata": {},
   "outputs": [
    {
     "data": {
      "text/plain": [
       "array([1, 4, 5, 0, 1, 2, 0, 4, 0, 3, 0, 1, 1, 5, 3, 2, 0, 2, 1, 0, 0, 5,\n",
       "       5, 5, 3, 5, 0, 1, 5, 4, 5, 1, 0, 2, 1, 4, 1, 5, 4, 2, 3, 0, 5, 5,\n",
       "       0, 1, 4, 1, 0, 4, 2, 2, 1, 5, 5, 3, 2, 1, 1, 1, 0, 1, 3, 5, 5, 0,\n",
       "       5, 5, 0, 3, 3, 0, 4, 3, 4, 5, 3, 2, 5, 4, 2, 4, 5, 3, 0, 0, 1, 2,\n",
       "       3, 2, 2, 5, 0, 3, 2, 2, 2, 0, 4, 0, 0, 2, 5, 3, 0, 4, 1, 2, 2, 4,\n",
       "       1, 4, 5, 5, 3, 3, 3, 1, 4, 4, 1, 0, 3, 5, 1, 1, 5, 2, 5, 4, 0, 5,\n",
       "       1, 1, 4, 1, 0, 0, 2, 0, 0, 2, 1, 0, 4, 1, 3, 4, 0, 0, 5, 5, 3, 3,\n",
       "       5, 2, 0, 4, 1, 0, 3, 2, 0, 4, 3, 1, 2, 2, 5, 3, 2, 2, 5, 4, 1, 0,\n",
       "       4, 0, 0, 2], dtype=int64)"
      ]
     },
     "execution_count": 22,
     "metadata": {},
     "output_type": "execute_result"
    }
   ],
   "source": [
    "Ynew"
   ]
  },
  {
   "cell_type": "code",
   "execution_count": 23,
   "metadata": {},
   "outputs": [
    {
     "data": {
      "text/plain": [
       "array([[0., 1., 0., 0., 0., 0.],\n",
       "       [0., 0., 0., 0., 1., 0.],\n",
       "       [0., 0., 0., 0., 0., 1.],\n",
       "       ...,\n",
       "       [1., 0., 0., 0., 0., 0.],\n",
       "       [1., 0., 0., 0., 0., 0.],\n",
       "       [0., 0., 1., 0., 0., 0.]], dtype=float32)"
      ]
     },
     "execution_count": 23,
     "metadata": {},
     "output_type": "execute_result"
    }
   ],
   "source": [
    "Y_test"
   ]
  },
  {
   "cell_type": "code",
   "execution_count": 24,
   "metadata": {},
   "outputs": [
    {
     "name": "stdout",
     "output_type": "stream",
     "text": [
      "The accuracy of the model is  0.4388888888888889\n"
     ]
    }
   ],
   "source": [
    "print('The accuracy of the model is ',(y_pred==Ynew).mean())"
   ]
  },
  {
   "cell_type": "code",
   "execution_count": 25,
   "metadata": {},
   "outputs": [
    {
     "name": "stdout",
     "output_type": "stream",
     "text": [
      "180/180 [==============================] - 0s 623us/step\n"
     ]
    }
   ],
   "source": [
    "## PERFORMANCE DE MODELO\n",
    "score = model.evaluate(X_test, Y_test)"
   ]
  },
  {
   "cell_type": "code",
   "execution_count": 26,
   "metadata": {},
   "outputs": [
    {
     "name": "stdout",
     "output_type": "stream",
     "text": [
      "Test score: 1.5188979307810466\n",
      "Test accuracy: 0.4388888888888889\n"
     ]
    }
   ],
   "source": [
    "print('Test score:', score[0])\n",
    "print('Test accuracy:', score[1])"
   ]
  },
  {
   "cell_type": "code",
   "execution_count": 27,
   "metadata": {},
   "outputs": [
    {
     "data": {
      "text/plain": [
       "array([[ 4,  0, 20,  7,  5,  2],\n",
       "       [ 0,  4,  4,  4, 17,  2],\n",
       "       [ 0,  2, 23,  1,  3,  0],\n",
       "       [ 0,  2,  3, 12,  2,  5],\n",
       "       [ 0,  0,  3,  1, 20,  1],\n",
       "       [ 1,  6,  0,  9,  1, 16]], dtype=int64)"
      ]
     },
     "execution_count": 27,
     "metadata": {},
     "output_type": "execute_result"
    }
   ],
   "source": [
    "from sklearn.metrics import confusion_matrix\n",
    "confusion_matrix(y_test, y_pred)"
   ]
  },
  {
   "cell_type": "code",
   "execution_count": 28,
   "metadata": {},
   "outputs": [
    {
     "name": "stdout",
     "output_type": "stream",
     "text": [
      "Counter de Test: Counter({0: 38, 5: 33, 1: 31, 2: 29, 4: 25, 3: 24})\n",
      "Counter de Test: [(0, 38), (5, 33), (1, 31), (2, 29), (4, 25), (3, 24)]\n"
     ]
    }
   ],
   "source": [
    "from collections import Counter\n",
    "\n",
    "c = Counter(Ynew)\n",
    "c\n",
    "print('Counter de Test:', c)\n",
    "print('Counter de Test:', c.most_common(10))"
   ]
  },
  {
   "cell_type": "code",
   "execution_count": 29,
   "metadata": {},
   "outputs": [
    {
     "name": "stdout",
     "output_type": "stream",
     "text": [
      "Counter de Predic: Counter({2: 53, 4: 48, 3: 34, 5: 26, 1: 14, 0: 5})\n",
      "Counter de Predic: [(2, 53), (4, 48), (3, 34), (5, 26), (1, 14), (0, 5)]\n"
     ]
    }
   ],
   "source": [
    "d = Counter(y_pred)\n",
    "d\n",
    "print('Counter de Predic:', d)\n",
    "print('Counter de Predic:', d.most_common(10))"
   ]
  },
  {
   "cell_type": "markdown",
   "metadata": {},
   "source": [
    "### Conclusiones\n",
    "\n",
    "Al correr el modelo se verifica que las categpias mas comunes en el TEST son 0, 5 y 1, sin embargo el modelo usado muestra las categorías más comunes como 4, 5 y 3, lo que indica que no es un modelo que nos permita un hacer una clasificación correcta.\n"
   ]
  },
  {
   "cell_type": "markdown",
   "metadata": {},
   "source": [
    "### 1.2 Modelo con Keras VGG con ImageNet"
   ]
  },
  {
   "cell_type": "code",
   "execution_count": 30,
   "metadata": {},
   "outputs": [],
   "source": [
    "from keras.applications.vgg16 import VGG16\n",
    "from keras.preprocessing import image\n",
    "from keras.applications.vgg16 import preprocess_input\n",
    "import numpy as np"
   ]
  },
  {
   "cell_type": "code",
   "execution_count": 31,
   "metadata": {},
   "outputs": [],
   "source": [
    "from keras.applications import VGG16\n",
    "from keras.applications.imagenet_utils import preprocess_input, decode_predictions\n",
    "import os"
   ]
  },
  {
   "cell_type": "code",
   "execution_count": 32,
   "metadata": {},
   "outputs": [],
   "source": [
    "import pandas as pd\n",
    "import os\n",
    "import numpy as np\n",
    "from sklearn.preprocessing import MultiLabelBinarizer\n",
    "from sklearn.multiclass import OneVsRestClassifier\n",
    "from sklearn.ensemble import RandomForestRegressor, RandomForestClassifier\n",
    "from sklearn.metrics import r2_score, roc_auc_score\n",
    "from sklearn.model_selection import train_test_split\n",
    "from sklearn.decomposition import PCA\n",
    "import matplotlib.pyplot as plt\n",
    "from skimage import io\n",
    "from tqdm import tqdm\n",
    "import os\n",
    "%matplotlib inline"
   ]
  },
  {
   "cell_type": "code",
   "execution_count": 33,
   "metadata": {},
   "outputs": [],
   "source": [
    "from keras.datasets import cifar10\n",
    "from keras.utils import np_utils\n",
    "import pandas as pd\n",
    "import numpy as np\n",
    "import matplotlib.pyplot as plt\n",
    "import matplotlib.image as mpimg\n",
    "%matplotlib inline"
   ]
  },
  {
   "cell_type": "code",
   "execution_count": 34,
   "metadata": {},
   "outputs": [],
   "source": [
    "from keras.models import Sequential\n",
    "from keras.layers import Dense, Dropout, Activation, Flatten\n",
    "from keras.layers import Conv2D, MaxPooling2D\n",
    "from livelossplot import PlotLossesKeras"
   ]
  },
  {
   "cell_type": "markdown",
   "metadata": {},
   "source": [
    "# `keras.applications para Birds`"
   ]
  },
  {
   "cell_type": "code",
   "execution_count": 35,
   "metadata": {},
   "outputs": [],
   "source": [
    "from keras.applications import VGG16\n",
    "from keras.applications.imagenet_utils import preprocess_input, decode_predictions\n",
    "import os"
   ]
  },
  {
   "cell_type": "code",
   "execution_count": 36,
   "metadata": {},
   "outputs": [
    {
     "name": "stdout",
     "output_type": "stream",
     "text": [
      "Model loaded.\n"
     ]
    }
   ],
   "source": [
    "vgg16 = VGG16(include_top=False, weights='imagenet')\n",
    "print('Model loaded.')"
   ]
  },
  {
   "cell_type": "code",
   "execution_count": 37,
   "metadata": {},
   "outputs": [
    {
     "name": "stdout",
     "output_type": "stream",
     "text": [
      "_________________________________________________________________\n",
      "Layer (type)                 Output Shape              Param #   \n",
      "=================================================================\n",
      "input_1 (InputLayer)         (None, None, None, 3)     0         \n",
      "_________________________________________________________________\n",
      "block1_conv1 (Conv2D)        (None, None, None, 64)    1792      \n",
      "_________________________________________________________________\n",
      "block1_conv2 (Conv2D)        (None, None, None, 64)    36928     \n",
      "_________________________________________________________________\n",
      "block1_pool (MaxPooling2D)   (None, None, None, 64)    0         \n",
      "_________________________________________________________________\n",
      "block2_conv1 (Conv2D)        (None, None, None, 128)   73856     \n",
      "_________________________________________________________________\n",
      "block2_conv2 (Conv2D)        (None, None, None, 128)   147584    \n",
      "_________________________________________________________________\n",
      "block2_pool (MaxPooling2D)   (None, None, None, 128)   0         \n",
      "_________________________________________________________________\n",
      "block3_conv1 (Conv2D)        (None, None, None, 256)   295168    \n",
      "_________________________________________________________________\n",
      "block3_conv2 (Conv2D)        (None, None, None, 256)   590080    \n",
      "_________________________________________________________________\n",
      "block3_conv3 (Conv2D)        (None, None, None, 256)   590080    \n",
      "_________________________________________________________________\n",
      "block3_pool (MaxPooling2D)   (None, None, None, 256)   0         \n",
      "_________________________________________________________________\n",
      "block4_conv1 (Conv2D)        (None, None, None, 512)   1180160   \n",
      "_________________________________________________________________\n",
      "block4_conv2 (Conv2D)        (None, None, None, 512)   2359808   \n",
      "_________________________________________________________________\n",
      "block4_conv3 (Conv2D)        (None, None, None, 512)   2359808   \n",
      "_________________________________________________________________\n",
      "block4_pool (MaxPooling2D)   (None, None, None, 512)   0         \n",
      "_________________________________________________________________\n",
      "block5_conv1 (Conv2D)        (None, None, None, 512)   2359808   \n",
      "_________________________________________________________________\n",
      "block5_conv2 (Conv2D)        (None, None, None, 512)   2359808   \n",
      "_________________________________________________________________\n",
      "block5_conv3 (Conv2D)        (None, None, None, 512)   2359808   \n",
      "_________________________________________________________________\n",
      "block5_pool (MaxPooling2D)   (None, None, None, 512)   0         \n",
      "=================================================================\n",
      "Total params: 14,714,688\n",
      "Trainable params: 14,714,688\n",
      "Non-trainable params: 0\n",
      "_________________________________________________________________\n"
     ]
    }
   ],
   "source": [
    "vgg16.summary()"
   ]
  },
  {
   "cell_type": "code",
   "execution_count": 38,
   "metadata": {},
   "outputs": [],
   "source": [
    "from keras.preprocessing import image\n",
    "import numpy as np"
   ]
  },
  {
   "cell_type": "code",
   "execution_count": 39,
   "metadata": {},
   "outputs": [
    {
     "data": {
      "text/plain": [
       "(420, 224, 224, 3)"
      ]
     },
     "execution_count": 39,
     "metadata": {},
     "output_type": "execute_result"
    }
   ],
   "source": [
    "X_train.shape"
   ]
  },
  {
   "cell_type": "code",
   "execution_count": 40,
   "metadata": {},
   "outputs": [],
   "source": [
    "X_vgg_train = vgg16.predict(X_train)"
   ]
  },
  {
   "cell_type": "code",
   "execution_count": 41,
   "metadata": {},
   "outputs": [
    {
     "data": {
      "text/plain": [
       "(420, 7, 7, 512)"
      ]
     },
     "execution_count": 41,
     "metadata": {},
     "output_type": "execute_result"
    }
   ],
   "source": [
    "X_vgg_train.shape"
   ]
  },
  {
   "cell_type": "code",
   "execution_count": 45,
   "metadata": {},
   "outputs": [
    {
     "data": {
      "text/plain": [
       "array([[[[0.0000000e+00, 0.0000000e+00, 0.0000000e+00, ...,\n",
       "          0.0000000e+00, 5.1599199e-01, 0.0000000e+00],\n",
       "         [0.0000000e+00, 0.0000000e+00, 0.0000000e+00, ...,\n",
       "          0.0000000e+00, 3.9582419e-01, 0.0000000e+00],\n",
       "         [0.0000000e+00, 0.0000000e+00, 0.0000000e+00, ...,\n",
       "          0.0000000e+00, 7.2050589e-01, 7.2830483e-02],\n",
       "         ...,\n",
       "         [0.0000000e+00, 0.0000000e+00, 0.0000000e+00, ...,\n",
       "          0.0000000e+00, 2.9240865e-01, 0.0000000e+00],\n",
       "         [0.0000000e+00, 0.0000000e+00, 0.0000000e+00, ...,\n",
       "          0.0000000e+00, 3.7691686e-01, 0.0000000e+00],\n",
       "         [0.0000000e+00, 0.0000000e+00, 0.0000000e+00, ...,\n",
       "          0.0000000e+00, 6.0063607e-01, 0.0000000e+00]],\n",
       "\n",
       "        [[0.0000000e+00, 0.0000000e+00, 6.2320781e-01, ...,\n",
       "          0.0000000e+00, 1.4702469e-01, 0.0000000e+00],\n",
       "         [1.4509211e+00, 9.7670197e-02, 3.9996248e-01, ...,\n",
       "          0.0000000e+00, 0.0000000e+00, 0.0000000e+00],\n",
       "         [1.7168244e+00, 0.0000000e+00, 3.4954864e-01, ...,\n",
       "          5.1064128e-01, 3.9375782e-01, 0.0000000e+00],\n",
       "         ...,\n",
       "         [0.0000000e+00, 0.0000000e+00, 0.0000000e+00, ...,\n",
       "          1.8279901e-01, 5.2031577e-01, 0.0000000e+00],\n",
       "         [0.0000000e+00, 0.0000000e+00, 0.0000000e+00, ...,\n",
       "          2.4500504e-01, 8.9179504e-01, 0.0000000e+00],\n",
       "         [0.0000000e+00, 0.0000000e+00, 0.0000000e+00, ...,\n",
       "          0.0000000e+00, 8.7914431e-01, 0.0000000e+00]],\n",
       "\n",
       "        [[0.0000000e+00, 5.1346540e-02, 5.5353910e-01, ...,\n",
       "          5.4093170e-01, 6.9996011e-01, 0.0000000e+00],\n",
       "         [1.4334662e+00, 0.0000000e+00, 2.7440488e-02, ...,\n",
       "          5.6949180e-01, 0.0000000e+00, 0.0000000e+00],\n",
       "         [1.6206832e+00, 0.0000000e+00, 6.9756603e-01, ...,\n",
       "          0.0000000e+00, 0.0000000e+00, 0.0000000e+00],\n",
       "         ...,\n",
       "         [0.0000000e+00, 1.4212084e-01, 2.1916598e-01, ...,\n",
       "          0.0000000e+00, 0.0000000e+00, 0.0000000e+00],\n",
       "         [0.0000000e+00, 5.9835613e-02, 0.0000000e+00, ...,\n",
       "          0.0000000e+00, 6.1268830e-01, 0.0000000e+00],\n",
       "         [0.0000000e+00, 0.0000000e+00, 0.0000000e+00, ...,\n",
       "          0.0000000e+00, 8.8970006e-01, 0.0000000e+00]],\n",
       "\n",
       "        ...,\n",
       "\n",
       "        [[0.0000000e+00, 0.0000000e+00, 0.0000000e+00, ...,\n",
       "          0.0000000e+00, 1.2396588e+00, 0.0000000e+00],\n",
       "         [8.8904822e-01, 0.0000000e+00, 0.0000000e+00, ...,\n",
       "          7.4328333e-01, 4.5524776e-02, 9.9496096e-02],\n",
       "         [1.7316871e+00, 0.0000000e+00, 0.0000000e+00, ...,\n",
       "          5.6196459e-02, 0.0000000e+00, 0.0000000e+00],\n",
       "         ...,\n",
       "         [1.6926527e+00, 0.0000000e+00, 0.0000000e+00, ...,\n",
       "          0.0000000e+00, 0.0000000e+00, 0.0000000e+00],\n",
       "         [2.0047839e+00, 0.0000000e+00, 0.0000000e+00, ...,\n",
       "          0.0000000e+00, 6.1894566e-01, 0.0000000e+00],\n",
       "         [2.1648765e-02, 0.0000000e+00, 0.0000000e+00, ...,\n",
       "          0.0000000e+00, 1.1712387e+00, 0.0000000e+00]],\n",
       "\n",
       "        [[8.1304021e-02, 0.0000000e+00, 0.0000000e+00, ...,\n",
       "          0.0000000e+00, 1.4032097e+00, 0.0000000e+00],\n",
       "         [1.0987556e+00, 0.0000000e+00, 0.0000000e+00, ...,\n",
       "          0.0000000e+00, 6.0165524e-01, 0.0000000e+00],\n",
       "         [1.5847100e+00, 0.0000000e+00, 0.0000000e+00, ...,\n",
       "          0.0000000e+00, 1.5117675e-01, 0.0000000e+00],\n",
       "         ...,\n",
       "         [1.4891881e+00, 0.0000000e+00, 0.0000000e+00, ...,\n",
       "          0.0000000e+00, 0.0000000e+00, 0.0000000e+00],\n",
       "         [1.8089274e+00, 0.0000000e+00, 0.0000000e+00, ...,\n",
       "          0.0000000e+00, 5.0239503e-01, 0.0000000e+00],\n",
       "         [2.9327697e-01, 0.0000000e+00, 1.8201426e-01, ...,\n",
       "          0.0000000e+00, 1.2221203e+00, 0.0000000e+00]],\n",
       "\n",
       "        [[0.0000000e+00, 0.0000000e+00, 0.0000000e+00, ...,\n",
       "          0.0000000e+00, 9.8162895e-01, 0.0000000e+00],\n",
       "         [0.0000000e+00, 0.0000000e+00, 4.5777148e-01, ...,\n",
       "          0.0000000e+00, 5.9971917e-01, 0.0000000e+00],\n",
       "         [0.0000000e+00, 0.0000000e+00, 9.2402869e-01, ...,\n",
       "          0.0000000e+00, 5.9161180e-01, 0.0000000e+00],\n",
       "         ...,\n",
       "         [2.6784450e-01, 0.0000000e+00, 0.0000000e+00, ...,\n",
       "          0.0000000e+00, 3.7584215e-01, 0.0000000e+00],\n",
       "         [8.3333045e-01, 0.0000000e+00, 6.7851484e-02, ...,\n",
       "          0.0000000e+00, 4.6922094e-01, 0.0000000e+00],\n",
       "         [0.0000000e+00, 0.0000000e+00, 9.7267210e-02, ...,\n",
       "          0.0000000e+00, 8.8192809e-01, 0.0000000e+00]]],\n",
       "\n",
       "\n",
       "       [[[0.0000000e+00, 0.0000000e+00, 0.0000000e+00, ...,\n",
       "          0.0000000e+00, 1.2584982e+00, 0.0000000e+00],\n",
       "         [0.0000000e+00, 0.0000000e+00, 0.0000000e+00, ...,\n",
       "          0.0000000e+00, 9.4749391e-01, 0.0000000e+00],\n",
       "         [0.0000000e+00, 0.0000000e+00, 0.0000000e+00, ...,\n",
       "          0.0000000e+00, 8.8391364e-01, 0.0000000e+00],\n",
       "         ...,\n",
       "         [0.0000000e+00, 0.0000000e+00, 0.0000000e+00, ...,\n",
       "          0.0000000e+00, 7.6175284e-01, 0.0000000e+00],\n",
       "         [0.0000000e+00, 0.0000000e+00, 0.0000000e+00, ...,\n",
       "          0.0000000e+00, 1.1078390e+00, 0.0000000e+00],\n",
       "         [0.0000000e+00, 0.0000000e+00, 0.0000000e+00, ...,\n",
       "          0.0000000e+00, 1.1377354e+00, 0.0000000e+00]],\n",
       "\n",
       "        [[0.0000000e+00, 0.0000000e+00, 0.0000000e+00, ...,\n",
       "          0.0000000e+00, 1.0806568e+00, 0.0000000e+00],\n",
       "         [0.0000000e+00, 0.0000000e+00, 1.6336286e-01, ...,\n",
       "          0.0000000e+00, 1.0131568e+00, 0.0000000e+00],\n",
       "         [0.0000000e+00, 0.0000000e+00, 7.5798708e-01, ...,\n",
       "          0.0000000e+00, 8.1057942e-01, 0.0000000e+00],\n",
       "         ...,\n",
       "         [1.1960526e+00, 0.0000000e+00, 9.1136628e-01, ...,\n",
       "          0.0000000e+00, 1.0098689e+00, 0.0000000e+00],\n",
       "         [0.0000000e+00, 0.0000000e+00, 0.0000000e+00, ...,\n",
       "          0.0000000e+00, 9.4928688e-01, 0.0000000e+00],\n",
       "         [0.0000000e+00, 0.0000000e+00, 0.0000000e+00, ...,\n",
       "          0.0000000e+00, 1.0937083e+00, 0.0000000e+00]],\n",
       "\n",
       "        [[0.0000000e+00, 0.0000000e+00, 0.0000000e+00, ...,\n",
       "          0.0000000e+00, 9.9125648e-01, 0.0000000e+00],\n",
       "         [0.0000000e+00, 0.0000000e+00, 0.0000000e+00, ...,\n",
       "          0.0000000e+00, 1.0782602e+00, 0.0000000e+00],\n",
       "         [1.0712922e-02, 0.0000000e+00, 4.1645175e-01, ...,\n",
       "          0.0000000e+00, 9.0557820e-01, 0.0000000e+00],\n",
       "         ...,\n",
       "         [1.2442647e+00, 0.0000000e+00, 5.9558666e-01, ...,\n",
       "          1.3516031e-02, 1.0897053e+00, 0.0000000e+00],\n",
       "         [1.1594602e+00, 0.0000000e+00, 0.0000000e+00, ...,\n",
       "          0.0000000e+00, 1.0687917e+00, 0.0000000e+00],\n",
       "         [6.5899342e-03, 0.0000000e+00, 1.7681777e-02, ...,\n",
       "          0.0000000e+00, 1.2742057e+00, 0.0000000e+00]],\n",
       "\n",
       "        ...,\n",
       "\n",
       "        [[0.0000000e+00, 0.0000000e+00, 0.0000000e+00, ...,\n",
       "          0.0000000e+00, 1.3325045e+00, 0.0000000e+00],\n",
       "         [1.5828502e-01, 0.0000000e+00, 0.0000000e+00, ...,\n",
       "          0.0000000e+00, 1.4932654e+00, 0.0000000e+00],\n",
       "         [5.7733321e-01, 0.0000000e+00, 7.5821459e-02, ...,\n",
       "          0.0000000e+00, 1.4622762e+00, 0.0000000e+00],\n",
       "         ...,\n",
       "         [4.1353554e-01, 0.0000000e+00, 3.0895543e-01, ...,\n",
       "          0.0000000e+00, 8.6667114e-01, 0.0000000e+00],\n",
       "         [5.7007331e-01, 0.0000000e+00, 1.0274485e-01, ...,\n",
       "          0.0000000e+00, 8.3726627e-01, 0.0000000e+00],\n",
       "         [3.1919566e-01, 0.0000000e+00, 1.7051578e-02, ...,\n",
       "          0.0000000e+00, 9.3353832e-01, 0.0000000e+00]],\n",
       "\n",
       "        [[1.2549907e-02, 0.0000000e+00, 0.0000000e+00, ...,\n",
       "          0.0000000e+00, 1.2440748e+00, 0.0000000e+00],\n",
       "         [0.0000000e+00, 0.0000000e+00, 0.0000000e+00, ...,\n",
       "          0.0000000e+00, 1.0759907e+00, 0.0000000e+00],\n",
       "         [0.0000000e+00, 0.0000000e+00, 0.0000000e+00, ...,\n",
       "          0.0000000e+00, 1.3313599e+00, 0.0000000e+00],\n",
       "         ...,\n",
       "         [3.2092464e-01, 0.0000000e+00, 0.0000000e+00, ...,\n",
       "          0.0000000e+00, 1.1504619e+00, 0.0000000e+00],\n",
       "         [4.6978286e-01, 0.0000000e+00, 0.0000000e+00, ...,\n",
       "          0.0000000e+00, 1.1974165e+00, 0.0000000e+00],\n",
       "         [0.0000000e+00, 0.0000000e+00, 0.0000000e+00, ...,\n",
       "          0.0000000e+00, 7.9398149e-01, 0.0000000e+00]],\n",
       "\n",
       "        [[0.0000000e+00, 0.0000000e+00, 0.0000000e+00, ...,\n",
       "          0.0000000e+00, 1.1460857e+00, 0.0000000e+00],\n",
       "         [0.0000000e+00, 0.0000000e+00, 0.0000000e+00, ...,\n",
       "          0.0000000e+00, 7.5808519e-01, 0.0000000e+00],\n",
       "         [0.0000000e+00, 0.0000000e+00, 0.0000000e+00, ...,\n",
       "          0.0000000e+00, 9.3033999e-01, 0.0000000e+00],\n",
       "         ...,\n",
       "         [0.0000000e+00, 0.0000000e+00, 0.0000000e+00, ...,\n",
       "          0.0000000e+00, 8.9743829e-01, 0.0000000e+00],\n",
       "         [2.5297937e-01, 0.0000000e+00, 0.0000000e+00, ...,\n",
       "          0.0000000e+00, 9.0735471e-01, 0.0000000e+00],\n",
       "         [0.0000000e+00, 0.0000000e+00, 0.0000000e+00, ...,\n",
       "          0.0000000e+00, 6.3542247e-01, 0.0000000e+00]]],\n",
       "\n",
       "\n",
       "       [[[0.0000000e+00, 0.0000000e+00, 0.0000000e+00, ...,\n",
       "          0.0000000e+00, 7.1333534e-01, 0.0000000e+00],\n",
       "         [0.0000000e+00, 0.0000000e+00, 0.0000000e+00, ...,\n",
       "          0.0000000e+00, 5.3625226e-01, 0.0000000e+00],\n",
       "         [0.0000000e+00, 0.0000000e+00, 0.0000000e+00, ...,\n",
       "          0.0000000e+00, 5.0252092e-01, 0.0000000e+00],\n",
       "         ...,\n",
       "         [0.0000000e+00, 0.0000000e+00, 0.0000000e+00, ...,\n",
       "          0.0000000e+00, 5.8249557e-01, 0.0000000e+00],\n",
       "         [0.0000000e+00, 0.0000000e+00, 0.0000000e+00, ...,\n",
       "          0.0000000e+00, 5.8948022e-01, 0.0000000e+00],\n",
       "         [0.0000000e+00, 0.0000000e+00, 0.0000000e+00, ...,\n",
       "          0.0000000e+00, 8.5291851e-01, 0.0000000e+00]],\n",
       "\n",
       "        [[0.0000000e+00, 0.0000000e+00, 0.0000000e+00, ...,\n",
       "          0.0000000e+00, 6.4791662e-01, 0.0000000e+00],\n",
       "         [0.0000000e+00, 0.0000000e+00, 0.0000000e+00, ...,\n",
       "          0.0000000e+00, 3.9278817e-01, 0.0000000e+00],\n",
       "         [0.0000000e+00, 0.0000000e+00, 0.0000000e+00, ...,\n",
       "          0.0000000e+00, 2.7971551e-01, 0.0000000e+00],\n",
       "         ...,\n",
       "         [0.0000000e+00, 0.0000000e+00, 0.0000000e+00, ...,\n",
       "          0.0000000e+00, 5.0938153e-01, 0.0000000e+00],\n",
       "         [0.0000000e+00, 0.0000000e+00, 0.0000000e+00, ...,\n",
       "          0.0000000e+00, 6.3943654e-01, 0.0000000e+00],\n",
       "         [0.0000000e+00, 0.0000000e+00, 0.0000000e+00, ...,\n",
       "          0.0000000e+00, 9.2442381e-01, 0.0000000e+00]],\n",
       "\n",
       "        [[0.0000000e+00, 0.0000000e+00, 0.0000000e+00, ...,\n",
       "          0.0000000e+00, 5.8181947e-01, 0.0000000e+00],\n",
       "         [2.4726517e-01, 0.0000000e+00, 7.4230653e-01, ...,\n",
       "          0.0000000e+00, 2.7888328e-01, 0.0000000e+00],\n",
       "         [5.3500283e-01, 1.1277695e+00, 2.8860816e-01, ...,\n",
       "          0.0000000e+00, 0.0000000e+00, 0.0000000e+00],\n",
       "         ...,\n",
       "         [0.0000000e+00, 0.0000000e+00, 0.0000000e+00, ...,\n",
       "          0.0000000e+00, 6.7649829e-01, 0.0000000e+00],\n",
       "         [0.0000000e+00, 0.0000000e+00, 0.0000000e+00, ...,\n",
       "          0.0000000e+00, 6.6387838e-01, 0.0000000e+00],\n",
       "         [0.0000000e+00, 0.0000000e+00, 0.0000000e+00, ...,\n",
       "          0.0000000e+00, 6.8680835e-01, 0.0000000e+00]],\n",
       "\n",
       "        ...,\n",
       "\n",
       "        [[0.0000000e+00, 0.0000000e+00, 1.2845373e-01, ...,\n",
       "          0.0000000e+00, 9.1479540e-01, 0.0000000e+00],\n",
       "         [1.0268512e+00, 0.0000000e+00, 4.7568843e-01, ...,\n",
       "          7.5471774e-02, 1.0452480e+00, 0.0000000e+00],\n",
       "         [3.8338625e+00, 0.0000000e+00, 2.7199936e-01, ...,\n",
       "          0.0000000e+00, 1.5731937e-01, 0.0000000e+00],\n",
       "         ...,\n",
       "         [2.3697154e-01, 0.0000000e+00, 2.4816442e-01, ...,\n",
       "          1.5401645e-01, 0.0000000e+00, 0.0000000e+00],\n",
       "         [0.0000000e+00, 0.0000000e+00, 1.1882517e-01, ...,\n",
       "          3.6567438e-01, 1.9160140e-01, 0.0000000e+00],\n",
       "         [0.0000000e+00, 0.0000000e+00, 0.0000000e+00, ...,\n",
       "          0.0000000e+00, 6.3987869e-01, 0.0000000e+00]],\n",
       "\n",
       "        [[0.0000000e+00, 0.0000000e+00, 0.0000000e+00, ...,\n",
       "          0.0000000e+00, 9.8542434e-01, 0.0000000e+00],\n",
       "         [7.3799890e-01, 0.0000000e+00, 4.5699179e-02, ...,\n",
       "          0.0000000e+00, 1.1565483e+00, 0.0000000e+00],\n",
       "         [2.5743852e+00, 0.0000000e+00, 0.0000000e+00, ...,\n",
       "          0.0000000e+00, 0.0000000e+00, 0.0000000e+00],\n",
       "         ...,\n",
       "         [5.4005659e-01, 0.0000000e+00, 0.0000000e+00, ...,\n",
       "          0.0000000e+00, 0.0000000e+00, 0.0000000e+00],\n",
       "         [0.0000000e+00, 0.0000000e+00, 0.0000000e+00, ...,\n",
       "          0.0000000e+00, 4.8319477e-01, 0.0000000e+00],\n",
       "         [0.0000000e+00, 0.0000000e+00, 0.0000000e+00, ...,\n",
       "          0.0000000e+00, 8.1008947e-01, 0.0000000e+00]],\n",
       "\n",
       "        [[0.0000000e+00, 0.0000000e+00, 1.4159679e-03, ...,\n",
       "          0.0000000e+00, 8.5789245e-01, 0.0000000e+00],\n",
       "         [0.0000000e+00, 0.0000000e+00, 0.0000000e+00, ...,\n",
       "          0.0000000e+00, 9.3280339e-01, 0.0000000e+00],\n",
       "         [0.0000000e+00, 0.0000000e+00, 0.0000000e+00, ...,\n",
       "          0.0000000e+00, 2.0220339e-02, 0.0000000e+00],\n",
       "         ...,\n",
       "         [0.0000000e+00, 0.0000000e+00, 0.0000000e+00, ...,\n",
       "          0.0000000e+00, 2.6207420e-01, 0.0000000e+00],\n",
       "         [0.0000000e+00, 0.0000000e+00, 0.0000000e+00, ...,\n",
       "          0.0000000e+00, 3.2650536e-01, 0.0000000e+00],\n",
       "         [0.0000000e+00, 0.0000000e+00, 0.0000000e+00, ...,\n",
       "          4.4604041e-02, 4.0563220e-01, 0.0000000e+00]]],\n",
       "\n",
       "\n",
       "       ...,\n",
       "\n",
       "\n",
       "       [[[1.6808239e-01, 0.0000000e+00, 0.0000000e+00, ...,\n",
       "          0.0000000e+00, 9.2357874e-01, 0.0000000e+00],\n",
       "         [1.6546756e-01, 0.0000000e+00, 0.0000000e+00, ...,\n",
       "          0.0000000e+00, 9.3109643e-01, 0.0000000e+00],\n",
       "         [7.3181234e-02, 0.0000000e+00, 0.0000000e+00, ...,\n",
       "          0.0000000e+00, 6.3159645e-01, 0.0000000e+00],\n",
       "         ...,\n",
       "         [0.0000000e+00, 0.0000000e+00, 9.4102156e-01, ...,\n",
       "          0.0000000e+00, 1.3907552e-01, 0.0000000e+00],\n",
       "         [0.0000000e+00, 0.0000000e+00, 6.2707424e-01, ...,\n",
       "          0.0000000e+00, 1.9126582e-01, 0.0000000e+00],\n",
       "         [1.7234138e-01, 0.0000000e+00, 7.7858061e-02, ...,\n",
       "          0.0000000e+00, 6.4407510e-01, 0.0000000e+00]],\n",
       "\n",
       "        [[2.7174982e-01, 0.0000000e+00, 0.0000000e+00, ...,\n",
       "          0.0000000e+00, 4.7666866e-01, 0.0000000e+00],\n",
       "         [1.9300964e-01, 0.0000000e+00, 0.0000000e+00, ...,\n",
       "          0.0000000e+00, 5.1483274e-01, 0.0000000e+00],\n",
       "         [4.2048231e-02, 0.0000000e+00, 0.0000000e+00, ...,\n",
       "          0.0000000e+00, 5.7734084e-01, 0.0000000e+00],\n",
       "         ...,\n",
       "         [8.9522398e-01, 0.0000000e+00, 1.1990173e+00, ...,\n",
       "          0.0000000e+00, 0.0000000e+00, 0.0000000e+00],\n",
       "         [3.3187914e-01, 0.0000000e+00, 2.1752340e-01, ...,\n",
       "          0.0000000e+00, 0.0000000e+00, 0.0000000e+00],\n",
       "         [4.7380573e-01, 0.0000000e+00, 1.7612728e-01, ...,\n",
       "          0.0000000e+00, 0.0000000e+00, 0.0000000e+00]],\n",
       "\n",
       "        [[0.0000000e+00, 0.0000000e+00, 0.0000000e+00, ...,\n",
       "          0.0000000e+00, 4.4686386e-01, 0.0000000e+00],\n",
       "         [0.0000000e+00, 0.0000000e+00, 0.0000000e+00, ...,\n",
       "          0.0000000e+00, 4.8448735e-01, 0.0000000e+00],\n",
       "         [0.0000000e+00, 0.0000000e+00, 6.0792744e-01, ...,\n",
       "          3.4194373e-02, 4.9101710e-01, 0.0000000e+00],\n",
       "         ...,\n",
       "         [3.6071110e-01, 0.0000000e+00, 9.0216517e-01, ...,\n",
       "          1.8647739e-01, 0.0000000e+00, 0.0000000e+00],\n",
       "         [3.9173731e-01, 0.0000000e+00, 0.0000000e+00, ...,\n",
       "          0.0000000e+00, 0.0000000e+00, 0.0000000e+00],\n",
       "         [7.1431732e-01, 0.0000000e+00, 0.0000000e+00, ...,\n",
       "          0.0000000e+00, 2.1199441e-01, 0.0000000e+00]],\n",
       "\n",
       "        ...,\n",
       "\n",
       "        [[2.1551943e-01, 0.0000000e+00, 0.0000000e+00, ...,\n",
       "          0.0000000e+00, 6.8975562e-01, 0.0000000e+00],\n",
       "         [0.0000000e+00, 0.0000000e+00, 0.0000000e+00, ...,\n",
       "          0.0000000e+00, 1.6479048e-01, 0.0000000e+00],\n",
       "         [0.0000000e+00, 0.0000000e+00, 0.0000000e+00, ...,\n",
       "          3.8940266e-01, 0.0000000e+00, 0.0000000e+00],\n",
       "         ...,\n",
       "         [0.0000000e+00, 0.0000000e+00, 0.0000000e+00, ...,\n",
       "          0.0000000e+00, 0.0000000e+00, 0.0000000e+00],\n",
       "         [0.0000000e+00, 0.0000000e+00, 0.0000000e+00, ...,\n",
       "          0.0000000e+00, 6.3690931e-01, 0.0000000e+00],\n",
       "         [0.0000000e+00, 0.0000000e+00, 0.0000000e+00, ...,\n",
       "          0.0000000e+00, 8.0592257e-01, 0.0000000e+00]],\n",
       "\n",
       "        [[0.0000000e+00, 0.0000000e+00, 4.9425745e-01, ...,\n",
       "          0.0000000e+00, 6.5693575e-01, 0.0000000e+00],\n",
       "         [0.0000000e+00, 0.0000000e+00, 1.8509352e-01, ...,\n",
       "          4.8222624e-02, 8.7686241e-01, 0.0000000e+00],\n",
       "         [0.0000000e+00, 0.0000000e+00, 4.8654595e-01, ...,\n",
       "          2.7261093e-01, 1.2287159e+00, 0.0000000e+00],\n",
       "         ...,\n",
       "         [0.0000000e+00, 0.0000000e+00, 8.7072557e-01, ...,\n",
       "          0.0000000e+00, 9.8948330e-01, 0.0000000e+00],\n",
       "         [6.6147149e-02, 0.0000000e+00, 1.2442678e-01, ...,\n",
       "          0.0000000e+00, 2.3370808e-01, 0.0000000e+00],\n",
       "         [2.9009947e-01, 0.0000000e+00, 0.0000000e+00, ...,\n",
       "          0.0000000e+00, 1.0215662e+00, 0.0000000e+00]],\n",
       "\n",
       "        [[0.0000000e+00, 0.0000000e+00, 3.9039606e-01, ...,\n",
       "          0.0000000e+00, 6.3543922e-01, 0.0000000e+00],\n",
       "         [0.0000000e+00, 0.0000000e+00, 1.5724930e-01, ...,\n",
       "          4.1615888e-03, 1.2602583e+00, 0.0000000e+00],\n",
       "         [0.0000000e+00, 0.0000000e+00, 5.6619686e-01, ...,\n",
       "          0.0000000e+00, 1.6136600e+00, 0.0000000e+00],\n",
       "         ...,\n",
       "         [0.0000000e+00, 0.0000000e+00, 4.8703238e-01, ...,\n",
       "          0.0000000e+00, 1.1114285e+00, 0.0000000e+00],\n",
       "         [3.7992436e-01, 0.0000000e+00, 4.0399671e-02, ...,\n",
       "          1.1577097e-01, 1.2229657e+00, 0.0000000e+00],\n",
       "         [3.4095508e-01, 0.0000000e+00, 0.0000000e+00, ...,\n",
       "          0.0000000e+00, 1.3464243e+00, 0.0000000e+00]]],\n",
       "\n",
       "\n",
       "       [[[0.0000000e+00, 0.0000000e+00, 4.7852948e-01, ...,\n",
       "          0.0000000e+00, 1.0799099e+00, 0.0000000e+00],\n",
       "         [0.0000000e+00, 0.0000000e+00, 8.9255404e-01, ...,\n",
       "          0.0000000e+00, 9.6057951e-01, 0.0000000e+00],\n",
       "         [0.0000000e+00, 0.0000000e+00, 2.1029127e-01, ...,\n",
       "          0.0000000e+00, 4.9543443e-01, 0.0000000e+00],\n",
       "         ...,\n",
       "         [1.0683015e-01, 0.0000000e+00, 0.0000000e+00, ...,\n",
       "          0.0000000e+00, 0.0000000e+00, 0.0000000e+00],\n",
       "         [9.9355131e-01, 0.0000000e+00, 0.0000000e+00, ...,\n",
       "          0.0000000e+00, 4.6548593e-01, 0.0000000e+00],\n",
       "         [1.1669619e+00, 0.0000000e+00, 0.0000000e+00, ...,\n",
       "          0.0000000e+00, 5.4934454e-01, 0.0000000e+00]],\n",
       "\n",
       "        [[0.0000000e+00, 0.0000000e+00, 6.3155597e-01, ...,\n",
       "          0.0000000e+00, 8.5391665e-01, 0.0000000e+00],\n",
       "         [1.7426711e-01, 0.0000000e+00, 4.9750027e-01, ...,\n",
       "          0.0000000e+00, 1.2195117e+00, 0.0000000e+00],\n",
       "         [1.3337989e-01, 0.0000000e+00, 0.0000000e+00, ...,\n",
       "          0.0000000e+00, 7.8186303e-01, 0.0000000e+00],\n",
       "         ...,\n",
       "         [0.0000000e+00, 0.0000000e+00, 0.0000000e+00, ...,\n",
       "          2.8027868e-01, 7.3760760e-01, 0.0000000e+00],\n",
       "         [0.0000000e+00, 0.0000000e+00, 0.0000000e+00, ...,\n",
       "          0.0000000e+00, 9.0579599e-01, 0.0000000e+00],\n",
       "         [1.1532220e-01, 0.0000000e+00, 1.3732117e-01, ...,\n",
       "          0.0000000e+00, 5.5256122e-01, 0.0000000e+00]],\n",
       "\n",
       "        [[0.0000000e+00, 0.0000000e+00, 2.8554642e-01, ...,\n",
       "          0.0000000e+00, 0.0000000e+00, 0.0000000e+00],\n",
       "         [3.1074506e-01, 0.0000000e+00, 0.0000000e+00, ...,\n",
       "          0.0000000e+00, 0.0000000e+00, 0.0000000e+00],\n",
       "         [1.1742517e+00, 0.0000000e+00, 0.0000000e+00, ...,\n",
       "          0.0000000e+00, 2.5698641e-01, 0.0000000e+00],\n",
       "         ...,\n",
       "         [5.8424997e-01, 0.0000000e+00, 0.0000000e+00, ...,\n",
       "          1.2043689e+00, 7.9529446e-01, 0.0000000e+00],\n",
       "         [0.0000000e+00, 0.0000000e+00, 0.0000000e+00, ...,\n",
       "          5.3869683e-01, 1.1704512e+00, 0.0000000e+00],\n",
       "         [0.0000000e+00, 0.0000000e+00, 0.0000000e+00, ...,\n",
       "          0.0000000e+00, 7.9918599e-01, 0.0000000e+00]],\n",
       "\n",
       "        ...,\n",
       "\n",
       "        [[0.0000000e+00, 0.0000000e+00, 1.8143923e+00, ...,\n",
       "          0.0000000e+00, 9.6642756e-01, 0.0000000e+00],\n",
       "         [0.0000000e+00, 0.0000000e+00, 1.9171233e+00, ...,\n",
       "          0.0000000e+00, 4.6712375e-01, 0.0000000e+00],\n",
       "         [0.0000000e+00, 0.0000000e+00, 7.5715810e-01, ...,\n",
       "          0.0000000e+00, 6.4806890e-01, 0.0000000e+00],\n",
       "         ...,\n",
       "         [0.0000000e+00, 3.9134240e-01, 0.0000000e+00, ...,\n",
       "          1.0803705e+00, 0.0000000e+00, 0.0000000e+00],\n",
       "         [2.8032485e-01, 6.2331444e-01, 0.0000000e+00, ...,\n",
       "          4.1550580e-02, 6.6613394e-01, 0.0000000e+00],\n",
       "         [0.0000000e+00, 0.0000000e+00, 2.4068004e-01, ...,\n",
       "          0.0000000e+00, 5.1557803e-01, 0.0000000e+00]],\n",
       "\n",
       "        [[0.0000000e+00, 0.0000000e+00, 1.2831109e+00, ...,\n",
       "          0.0000000e+00, 1.2850881e+00, 0.0000000e+00],\n",
       "         [0.0000000e+00, 0.0000000e+00, 1.3914499e+00, ...,\n",
       "          0.0000000e+00, 7.4855018e-01, 0.0000000e+00],\n",
       "         [0.0000000e+00, 0.0000000e+00, 7.4131006e-01, ...,\n",
       "          0.0000000e+00, 7.5727594e-01, 0.0000000e+00],\n",
       "         ...,\n",
       "         [6.7168570e-01, 1.7152923e-01, 0.0000000e+00, ...,\n",
       "          0.0000000e+00, 2.3123217e-01, 0.0000000e+00],\n",
       "         [2.4048758e-01, 3.9218903e-01, 1.1484280e-01, ...,\n",
       "          0.0000000e+00, 7.8089106e-01, 0.0000000e+00],\n",
       "         [2.4175233e-01, 0.0000000e+00, 1.3558986e+00, ...,\n",
       "          0.0000000e+00, 1.4143145e-01, 0.0000000e+00]],\n",
       "\n",
       "        [[0.0000000e+00, 0.0000000e+00, 9.2265129e-01, ...,\n",
       "          0.0000000e+00, 1.4398959e+00, 0.0000000e+00],\n",
       "         [0.0000000e+00, 0.0000000e+00, 3.5953826e-01, ...,\n",
       "          0.0000000e+00, 6.8398422e-01, 0.0000000e+00],\n",
       "         [0.0000000e+00, 0.0000000e+00, 1.3596624e-01, ...,\n",
       "          0.0000000e+00, 6.5752697e-01, 0.0000000e+00],\n",
       "         ...,\n",
       "         [8.6193126e-01, 0.0000000e+00, 0.0000000e+00, ...,\n",
       "          0.0000000e+00, 5.8064687e-01, 0.0000000e+00],\n",
       "         [4.7873902e-01, 0.0000000e+00, 4.2360789e-01, ...,\n",
       "          0.0000000e+00, 8.0407131e-01, 0.0000000e+00],\n",
       "         [4.8803747e-01, 0.0000000e+00, 1.1050501e+00, ...,\n",
       "          0.0000000e+00, 4.5151293e-01, 0.0000000e+00]]],\n",
       "\n",
       "\n",
       "       [[[4.7684437e-01, 0.0000000e+00, 0.0000000e+00, ...,\n",
       "          0.0000000e+00, 8.0016339e-01, 0.0000000e+00],\n",
       "         [0.0000000e+00, 0.0000000e+00, 0.0000000e+00, ...,\n",
       "          0.0000000e+00, 6.8349761e-01, 0.0000000e+00],\n",
       "         [0.0000000e+00, 0.0000000e+00, 0.0000000e+00, ...,\n",
       "          0.0000000e+00, 8.2943344e-01, 0.0000000e+00],\n",
       "         ...,\n",
       "         [0.0000000e+00, 0.0000000e+00, 0.0000000e+00, ...,\n",
       "          0.0000000e+00, 5.9609568e-01, 0.0000000e+00],\n",
       "         [0.0000000e+00, 0.0000000e+00, 0.0000000e+00, ...,\n",
       "          0.0000000e+00, 8.2117057e-01, 0.0000000e+00],\n",
       "         [1.3320988e-01, 0.0000000e+00, 0.0000000e+00, ...,\n",
       "          0.0000000e+00, 8.3447087e-01, 0.0000000e+00]],\n",
       "\n",
       "        [[6.3159376e-01, 0.0000000e+00, 2.2775996e-01, ...,\n",
       "          0.0000000e+00, 8.8023376e-01, 0.0000000e+00],\n",
       "         [2.4057205e-01, 0.0000000e+00, 0.0000000e+00, ...,\n",
       "          0.0000000e+00, 7.1682489e-01, 0.0000000e+00],\n",
       "         [0.0000000e+00, 0.0000000e+00, 0.0000000e+00, ...,\n",
       "          0.0000000e+00, 3.8301840e-01, 0.0000000e+00],\n",
       "         ...,\n",
       "         [4.0667757e-01, 0.0000000e+00, 0.0000000e+00, ...,\n",
       "          0.0000000e+00, 5.4219800e-01, 0.0000000e+00],\n",
       "         [1.2748970e+00, 0.0000000e+00, 0.0000000e+00, ...,\n",
       "          0.0000000e+00, 1.8758276e-01, 0.0000000e+00],\n",
       "         [1.4422154e+00, 0.0000000e+00, 0.0000000e+00, ...,\n",
       "          0.0000000e+00, 3.8694090e-01, 0.0000000e+00]],\n",
       "\n",
       "        [[0.0000000e+00, 0.0000000e+00, 1.0549438e-01, ...,\n",
       "          0.0000000e+00, 1.0206721e+00, 0.0000000e+00],\n",
       "         [0.0000000e+00, 0.0000000e+00, 4.8401338e-01, ...,\n",
       "          0.0000000e+00, 9.6277654e-01, 0.0000000e+00],\n",
       "         [0.0000000e+00, 0.0000000e+00, 1.3854659e+00, ...,\n",
       "          0.0000000e+00, 4.0053025e-01, 1.1209493e+00],\n",
       "         ...,\n",
       "         [0.0000000e+00, 0.0000000e+00, 2.0773944e-01, ...,\n",
       "          5.3461897e-01, 6.3274956e-01, 0.0000000e+00],\n",
       "         [9.3948555e-01, 0.0000000e+00, 0.0000000e+00, ...,\n",
       "          0.0000000e+00, 5.6857264e-01, 0.0000000e+00],\n",
       "         [9.9828869e-01, 0.0000000e+00, 0.0000000e+00, ...,\n",
       "          0.0000000e+00, 4.4319564e-01, 0.0000000e+00]],\n",
       "\n",
       "        ...,\n",
       "\n",
       "        [[3.6187050e-01, 0.0000000e+00, 0.0000000e+00, ...,\n",
       "          0.0000000e+00, 9.7086596e-01, 0.0000000e+00],\n",
       "         [0.0000000e+00, 0.0000000e+00, 0.0000000e+00, ...,\n",
       "          0.0000000e+00, 8.5920572e-01, 0.0000000e+00],\n",
       "         [9.5689321e-01, 0.0000000e+00, 5.5991679e-02, ...,\n",
       "          4.5235148e-01, 3.4384683e-01, 0.0000000e+00],\n",
       "         ...,\n",
       "         [0.0000000e+00, 0.0000000e+00, 5.5780858e-01, ...,\n",
       "          3.8628680e-01, 6.8762636e-01, 0.0000000e+00],\n",
       "         [0.0000000e+00, 0.0000000e+00, 1.6547021e-01, ...,\n",
       "          0.0000000e+00, 9.6762228e-01, 0.0000000e+00],\n",
       "         [0.0000000e+00, 0.0000000e+00, 0.0000000e+00, ...,\n",
       "          0.0000000e+00, 9.6033835e-01, 0.0000000e+00]],\n",
       "\n",
       "        [[2.2804527e-01, 0.0000000e+00, 0.0000000e+00, ...,\n",
       "          0.0000000e+00, 1.2682836e+00, 0.0000000e+00],\n",
       "         [6.0584694e-02, 0.0000000e+00, 0.0000000e+00, ...,\n",
       "          0.0000000e+00, 1.3780324e+00, 0.0000000e+00],\n",
       "         [0.0000000e+00, 0.0000000e+00, 0.0000000e+00, ...,\n",
       "          4.4155765e-01, 1.3600243e+00, 0.0000000e+00],\n",
       "         ...,\n",
       "         [0.0000000e+00, 0.0000000e+00, 1.1975181e-01, ...,\n",
       "          3.1118459e-01, 7.5787449e-01, 0.0000000e+00],\n",
       "         [8.0628115e-01, 0.0000000e+00, 0.0000000e+00, ...,\n",
       "          1.0727786e-01, 8.3516169e-01, 0.0000000e+00],\n",
       "         [1.0164795e+00, 0.0000000e+00, 0.0000000e+00, ...,\n",
       "          1.1249162e-02, 8.4740800e-01, 0.0000000e+00]],\n",
       "\n",
       "        [[0.0000000e+00, 0.0000000e+00, 0.0000000e+00, ...,\n",
       "          3.1702840e-01, 1.1741600e+00, 0.0000000e+00],\n",
       "         [0.0000000e+00, 0.0000000e+00, 0.0000000e+00, ...,\n",
       "          1.2354368e+00, 1.0940570e+00, 0.0000000e+00],\n",
       "         [0.0000000e+00, 0.0000000e+00, 0.0000000e+00, ...,\n",
       "          1.2560436e+00, 1.1278942e+00, 0.0000000e+00],\n",
       "         ...,\n",
       "         [0.0000000e+00, 0.0000000e+00, 3.5547000e-01, ...,\n",
       "          6.8491846e-03, 5.9263563e-01, 0.0000000e+00],\n",
       "         [1.7462337e-01, 0.0000000e+00, 0.0000000e+00, ...,\n",
       "          1.1197227e-01, 6.8698609e-01, 0.0000000e+00],\n",
       "         [4.7897997e-01, 0.0000000e+00, 0.0000000e+00, ...,\n",
       "          0.0000000e+00, 7.8454190e-01, 0.0000000e+00]]]], dtype=float32)"
      ]
     },
     "execution_count": 45,
     "metadata": {},
     "output_type": "execute_result"
    }
   ],
   "source": [
    "X_vgg_train"
   ]
  },
  {
   "cell_type": "code",
   "execution_count": 43,
   "metadata": {},
   "outputs": [],
   "source": [
    "X_vgg_test = vgg16.predict(X_test)"
   ]
  },
  {
   "cell_type": "code",
   "execution_count": 46,
   "metadata": {},
   "outputs": [
    {
     "data": {
      "text/plain": [
       "(180, 7, 7, 512)"
      ]
     },
     "execution_count": 46,
     "metadata": {},
     "output_type": "execute_result"
    }
   ],
   "source": [
    "X_vgg_test.shape"
   ]
  },
  {
   "cell_type": "code",
   "execution_count": 47,
   "metadata": {},
   "outputs": [
    {
     "data": {
      "text/plain": [
       "array([[[[0.0000000e+00, 0.0000000e+00, 0.0000000e+00, ...,\n",
       "          1.6525269e-01, 1.0369571e+00, 0.0000000e+00],\n",
       "         [4.2943317e-01, 0.0000000e+00, 4.6850502e-02, ...,\n",
       "          0.0000000e+00, 1.0474889e+00, 0.0000000e+00],\n",
       "         [3.1198967e-01, 0.0000000e+00, 1.2692671e+00, ...,\n",
       "          0.0000000e+00, 1.0980147e-01, 4.3697622e-01],\n",
       "         ...,\n",
       "         [0.0000000e+00, 0.0000000e+00, 4.6280950e-01, ...,\n",
       "          5.0966513e-01, 2.4377716e-01, 0.0000000e+00],\n",
       "         [0.0000000e+00, 0.0000000e+00, 0.0000000e+00, ...,\n",
       "          0.0000000e+00, 5.7386374e-01, 0.0000000e+00],\n",
       "         [1.4385232e-01, 0.0000000e+00, 0.0000000e+00, ...,\n",
       "          0.0000000e+00, 7.8386766e-01, 0.0000000e+00]],\n",
       "\n",
       "        [[0.0000000e+00, 0.0000000e+00, 0.0000000e+00, ...,\n",
       "          0.0000000e+00, 9.0998590e-01, 0.0000000e+00],\n",
       "         [2.0488900e-01, 2.2134000e-01, 1.3997452e+00, ...,\n",
       "          1.9112352e-01, 7.8889084e-01, 0.0000000e+00],\n",
       "         [6.1406863e-01, 0.0000000e+00, 1.5531700e+00, ...,\n",
       "          6.9997185e-01, 0.0000000e+00, 2.0156100e-01],\n",
       "         ...,\n",
       "         [0.0000000e+00, 0.0000000e+00, 1.3605261e+00, ...,\n",
       "          5.6948853e-01, 3.9203483e-01, 0.0000000e+00],\n",
       "         [0.0000000e+00, 0.0000000e+00, 1.3261243e+00, ...,\n",
       "          1.3861269e-02, 2.1930611e-01, 0.0000000e+00],\n",
       "         [0.0000000e+00, 0.0000000e+00, 4.8696965e-01, ...,\n",
       "          0.0000000e+00, 3.9042777e-01, 0.0000000e+00]],\n",
       "\n",
       "        [[2.6077172e-01, 0.0000000e+00, 1.7861140e-01, ...,\n",
       "          0.0000000e+00, 5.3480285e-01, 0.0000000e+00],\n",
       "         [1.7477267e+00, 6.3784140e-01, 1.3620009e+00, ...,\n",
       "          5.9868649e-02, 0.0000000e+00, 0.0000000e+00],\n",
       "         [2.0801444e+00, 0.0000000e+00, 1.5789926e-01, ...,\n",
       "          3.6243740e-01, 0.0000000e+00, 0.0000000e+00],\n",
       "         ...,\n",
       "         [0.0000000e+00, 0.0000000e+00, 1.0748096e+00, ...,\n",
       "          5.4971623e-01, 5.8874148e-01, 0.0000000e+00],\n",
       "         [1.6214669e-02, 0.0000000e+00, 1.4547632e+00, ...,\n",
       "          1.9437668e-01, 0.0000000e+00, 0.0000000e+00],\n",
       "         [0.0000000e+00, 0.0000000e+00, 9.8107290e-01, ...,\n",
       "          0.0000000e+00, 4.2348254e-01, 3.3493601e-02]],\n",
       "\n",
       "        ...,\n",
       "\n",
       "        [[2.2799220e+00, 0.0000000e+00, 4.1244110e-01, ...,\n",
       "          0.0000000e+00, 1.4987385e-01, 1.1509217e-02],\n",
       "         [4.0605240e+00, 0.0000000e+00, 1.1581308e+00, ...,\n",
       "          8.7197535e-02, 0.0000000e+00, 4.3005225e-01],\n",
       "         [2.9637394e+00, 0.0000000e+00, 6.5737826e-01, ...,\n",
       "          0.0000000e+00, 0.0000000e+00, 0.0000000e+00],\n",
       "         ...,\n",
       "         [5.0998884e-01, 0.0000000e+00, 9.2768872e-01, ...,\n",
       "          0.0000000e+00, 0.0000000e+00, 0.0000000e+00],\n",
       "         [0.0000000e+00, 0.0000000e+00, 1.4262959e-01, ...,\n",
       "          0.0000000e+00, 0.0000000e+00, 0.0000000e+00],\n",
       "         [0.0000000e+00, 0.0000000e+00, 0.0000000e+00, ...,\n",
       "          0.0000000e+00, 2.1296084e-01, 0.0000000e+00]],\n",
       "\n",
       "        [[8.3029550e-01, 0.0000000e+00, 6.0257554e-02, ...,\n",
       "          0.0000000e+00, 3.7078151e-01, 0.0000000e+00],\n",
       "         [1.0559142e+00, 0.0000000e+00, 9.7136354e-01, ...,\n",
       "          2.1389505e-01, 3.0153632e-02, 0.0000000e+00],\n",
       "         [3.3528897e-01, 0.0000000e+00, 6.4136922e-01, ...,\n",
       "          0.0000000e+00, 0.0000000e+00, 0.0000000e+00],\n",
       "         ...,\n",
       "         [0.0000000e+00, 0.0000000e+00, 2.5592065e-01, ...,\n",
       "          0.0000000e+00, 0.0000000e+00, 0.0000000e+00],\n",
       "         [0.0000000e+00, 0.0000000e+00, 0.0000000e+00, ...,\n",
       "          0.0000000e+00, 0.0000000e+00, 0.0000000e+00],\n",
       "         [0.0000000e+00, 0.0000000e+00, 0.0000000e+00, ...,\n",
       "          0.0000000e+00, 0.0000000e+00, 0.0000000e+00]],\n",
       "\n",
       "        [[2.6444203e-01, 0.0000000e+00, 0.0000000e+00, ...,\n",
       "          0.0000000e+00, 9.1355622e-01, 0.0000000e+00],\n",
       "         [5.1318431e-01, 0.0000000e+00, 0.0000000e+00, ...,\n",
       "          0.0000000e+00, 1.0350187e+00, 0.0000000e+00],\n",
       "         [3.3035296e-01, 0.0000000e+00, 1.1914152e-01, ...,\n",
       "          0.0000000e+00, 8.1383979e-01, 0.0000000e+00],\n",
       "         ...,\n",
       "         [0.0000000e+00, 0.0000000e+00, 0.0000000e+00, ...,\n",
       "          2.2374409e-01, 3.8068348e-01, 0.0000000e+00],\n",
       "         [0.0000000e+00, 0.0000000e+00, 0.0000000e+00, ...,\n",
       "          0.0000000e+00, 0.0000000e+00, 0.0000000e+00],\n",
       "         [0.0000000e+00, 0.0000000e+00, 0.0000000e+00, ...,\n",
       "          0.0000000e+00, 4.2214185e-01, 0.0000000e+00]]],\n",
       "\n",
       "\n",
       "       [[[6.6429317e-02, 0.0000000e+00, 0.0000000e+00, ...,\n",
       "          0.0000000e+00, 5.3013563e-01, 0.0000000e+00],\n",
       "         [2.0080909e-02, 0.0000000e+00, 0.0000000e+00, ...,\n",
       "          0.0000000e+00, 3.9728737e-01, 0.0000000e+00],\n",
       "         [0.0000000e+00, 0.0000000e+00, 0.0000000e+00, ...,\n",
       "          0.0000000e+00, 4.0578121e-01, 0.0000000e+00],\n",
       "         ...,\n",
       "         [0.0000000e+00, 0.0000000e+00, 4.4959638e-01, ...,\n",
       "          0.0000000e+00, 2.8097072e-01, 5.9545495e-02],\n",
       "         [0.0000000e+00, 0.0000000e+00, 8.1513196e-01, ...,\n",
       "          7.7276155e-03, 4.5811501e-01, 3.3708748e-01],\n",
       "         [0.0000000e+00, 0.0000000e+00, 0.0000000e+00, ...,\n",
       "          0.0000000e+00, 2.9646766e-01, 2.4359831e-01]],\n",
       "\n",
       "        [[0.0000000e+00, 0.0000000e+00, 0.0000000e+00, ...,\n",
       "          0.0000000e+00, 3.2105756e-01, 0.0000000e+00],\n",
       "         [0.0000000e+00, 0.0000000e+00, 1.1283195e-01, ...,\n",
       "          0.0000000e+00, 3.7184358e-03, 0.0000000e+00],\n",
       "         [8.5161471e-01, 0.0000000e+00, 0.0000000e+00, ...,\n",
       "          2.1646985e-01, 0.0000000e+00, 0.0000000e+00],\n",
       "         ...,\n",
       "         [1.7163172e+00, 0.0000000e+00, 0.0000000e+00, ...,\n",
       "          4.9042663e-01, 0.0000000e+00, 0.0000000e+00],\n",
       "         [1.8940350e+00, 0.0000000e+00, 0.0000000e+00, ...,\n",
       "          2.5256911e-01, 1.8634936e-01, 0.0000000e+00],\n",
       "         [7.5306034e-01, 0.0000000e+00, 0.0000000e+00, ...,\n",
       "          0.0000000e+00, 4.2648846e-01, 0.0000000e+00]],\n",
       "\n",
       "        [[0.0000000e+00, 0.0000000e+00, 0.0000000e+00, ...,\n",
       "          0.0000000e+00, 9.6046120e-01, 0.0000000e+00],\n",
       "         [4.2113763e-01, 0.0000000e+00, 1.0258955e-01, ...,\n",
       "          0.0000000e+00, 0.0000000e+00, 0.0000000e+00],\n",
       "         [1.0676651e+00, 0.0000000e+00, 0.0000000e+00, ...,\n",
       "          7.5921786e-01, 0.0000000e+00, 0.0000000e+00],\n",
       "         ...,\n",
       "         [1.8260806e+00, 0.0000000e+00, 0.0000000e+00, ...,\n",
       "          5.5694956e-01, 0.0000000e+00, 0.0000000e+00],\n",
       "         [2.0309484e+00, 0.0000000e+00, 0.0000000e+00, ...,\n",
       "          1.0687613e-01, 0.0000000e+00, 0.0000000e+00],\n",
       "         [1.4592574e+00, 0.0000000e+00, 0.0000000e+00, ...,\n",
       "          0.0000000e+00, 7.9535472e-01, 0.0000000e+00]],\n",
       "\n",
       "        ...,\n",
       "\n",
       "        [[0.0000000e+00, 0.0000000e+00, 0.0000000e+00, ...,\n",
       "          0.0000000e+00, 2.9674211e-01, 1.2715167e-01],\n",
       "         [2.8870285e-01, 0.0000000e+00, 0.0000000e+00, ...,\n",
       "          0.0000000e+00, 0.0000000e+00, 0.0000000e+00],\n",
       "         [9.2840123e-01, 0.0000000e+00, 0.0000000e+00, ...,\n",
       "          0.0000000e+00, 0.0000000e+00, 0.0000000e+00],\n",
       "         ...,\n",
       "         [1.5479240e-01, 0.0000000e+00, 3.1398326e-01, ...,\n",
       "          0.0000000e+00, 1.2186688e-01, 0.0000000e+00],\n",
       "         [4.0728369e-01, 0.0000000e+00, 2.2086024e-02, ...,\n",
       "          0.0000000e+00, 0.0000000e+00, 0.0000000e+00],\n",
       "         [3.5533434e-01, 0.0000000e+00, 2.5331914e-02, ...,\n",
       "          0.0000000e+00, 2.9291809e-02, 0.0000000e+00]],\n",
       "\n",
       "        [[0.0000000e+00, 0.0000000e+00, 6.6422498e-01, ...,\n",
       "          0.0000000e+00, 0.0000000e+00, 6.4467657e-01],\n",
       "         [0.0000000e+00, 0.0000000e+00, 5.1732904e-01, ...,\n",
       "          0.0000000e+00, 1.1232972e-02, 9.6331537e-02],\n",
       "         [0.0000000e+00, 0.0000000e+00, 1.4966291e-01, ...,\n",
       "          0.0000000e+00, 0.0000000e+00, 0.0000000e+00],\n",
       "         ...,\n",
       "         [0.0000000e+00, 0.0000000e+00, 7.7889889e-02, ...,\n",
       "          0.0000000e+00, 3.0754584e-01, 0.0000000e+00],\n",
       "         [2.0739347e-02, 0.0000000e+00, 1.5076131e-01, ...,\n",
       "          3.1751621e-01, 2.4367979e-01, 0.0000000e+00],\n",
       "         [3.3985192e-01, 0.0000000e+00, 3.7663969e-01, ...,\n",
       "          6.1232924e-01, 1.7732936e-01, 0.0000000e+00]],\n",
       "\n",
       "        [[0.0000000e+00, 0.0000000e+00, 0.0000000e+00, ...,\n",
       "          0.0000000e+00, 2.1696681e-01, 0.0000000e+00],\n",
       "         [0.0000000e+00, 0.0000000e+00, 0.0000000e+00, ...,\n",
       "          0.0000000e+00, 6.0021186e-01, 0.0000000e+00],\n",
       "         [3.8662553e-01, 0.0000000e+00, 0.0000000e+00, ...,\n",
       "          0.0000000e+00, 2.5259614e-02, 0.0000000e+00],\n",
       "         ...,\n",
       "         [0.0000000e+00, 0.0000000e+00, 0.0000000e+00, ...,\n",
       "          0.0000000e+00, 2.4983418e-01, 0.0000000e+00],\n",
       "         [0.0000000e+00, 0.0000000e+00, 0.0000000e+00, ...,\n",
       "          0.0000000e+00, 3.6202094e-01, 0.0000000e+00],\n",
       "         [8.6408652e-02, 0.0000000e+00, 9.9362612e-02, ...,\n",
       "          0.0000000e+00, 2.3460686e-02, 0.0000000e+00]]],\n",
       "\n",
       "\n",
       "       [[[5.5567563e-02, 0.0000000e+00, 0.0000000e+00, ...,\n",
       "          0.0000000e+00, 6.8830323e-01, 0.0000000e+00],\n",
       "         [0.0000000e+00, 0.0000000e+00, 0.0000000e+00, ...,\n",
       "          0.0000000e+00, 3.0875152e-01, 0.0000000e+00],\n",
       "         [0.0000000e+00, 0.0000000e+00, 1.6332299e-01, ...,\n",
       "          2.4086393e-02, 3.1095064e-01, 0.0000000e+00],\n",
       "         ...,\n",
       "         [0.0000000e+00, 0.0000000e+00, 0.0000000e+00, ...,\n",
       "          8.5561469e-02, 4.3167627e-01, 0.0000000e+00],\n",
       "         [0.0000000e+00, 0.0000000e+00, 0.0000000e+00, ...,\n",
       "          0.0000000e+00, 3.8639176e-01, 0.0000000e+00],\n",
       "         [0.0000000e+00, 0.0000000e+00, 0.0000000e+00, ...,\n",
       "          0.0000000e+00, 4.8973760e-01, 0.0000000e+00]],\n",
       "\n",
       "        [[3.1307578e-02, 0.0000000e+00, 0.0000000e+00, ...,\n",
       "          0.0000000e+00, 7.0110941e-01, 0.0000000e+00],\n",
       "         [0.0000000e+00, 0.0000000e+00, 0.0000000e+00, ...,\n",
       "          0.0000000e+00, 4.6048397e-01, 0.0000000e+00],\n",
       "         [0.0000000e+00, 0.0000000e+00, 0.0000000e+00, ...,\n",
       "          0.0000000e+00, 5.1714039e-01, 0.0000000e+00],\n",
       "         ...,\n",
       "         [0.0000000e+00, 0.0000000e+00, 1.2268944e+00, ...,\n",
       "          0.0000000e+00, 3.3422121e-01, 0.0000000e+00],\n",
       "         [0.0000000e+00, 0.0000000e+00, 1.1483761e+00, ...,\n",
       "          0.0000000e+00, 1.9666842e-01, 0.0000000e+00],\n",
       "         [0.0000000e+00, 0.0000000e+00, 0.0000000e+00, ...,\n",
       "          0.0000000e+00, 4.4675061e-01, 0.0000000e+00]],\n",
       "\n",
       "        [[0.0000000e+00, 0.0000000e+00, 0.0000000e+00, ...,\n",
       "          0.0000000e+00, 1.0200012e+00, 0.0000000e+00],\n",
       "         [0.0000000e+00, 0.0000000e+00, 0.0000000e+00, ...,\n",
       "          0.0000000e+00, 6.9124848e-01, 0.0000000e+00],\n",
       "         [0.0000000e+00, 0.0000000e+00, 5.8475673e-02, ...,\n",
       "          5.5718809e-01, 8.2888615e-01, 0.0000000e+00],\n",
       "         ...,\n",
       "         [1.0865171e+00, 0.0000000e+00, 1.1304638e+00, ...,\n",
       "          1.6766082e+00, 0.0000000e+00, 0.0000000e+00],\n",
       "         [5.7870519e-01, 0.0000000e+00, 1.1615400e+00, ...,\n",
       "          0.0000000e+00, 5.6527197e-01, 0.0000000e+00],\n",
       "         [0.0000000e+00, 0.0000000e+00, 0.0000000e+00, ...,\n",
       "          0.0000000e+00, 6.2046665e-01, 0.0000000e+00]],\n",
       "\n",
       "        ...,\n",
       "\n",
       "        [[0.0000000e+00, 0.0000000e+00, 0.0000000e+00, ...,\n",
       "          0.0000000e+00, 6.6621184e-01, 0.0000000e+00],\n",
       "         [4.2558536e-01, 0.0000000e+00, 0.0000000e+00, ...,\n",
       "          0.0000000e+00, 1.0243281e+00, 0.0000000e+00],\n",
       "         [2.8027341e+00, 0.0000000e+00, 0.0000000e+00, ...,\n",
       "          0.0000000e+00, 6.5618742e-01, 0.0000000e+00],\n",
       "         ...,\n",
       "         [2.0834968e+00, 0.0000000e+00, 0.0000000e+00, ...,\n",
       "          0.0000000e+00, 0.0000000e+00, 0.0000000e+00],\n",
       "         [3.7678367e-01, 0.0000000e+00, 2.5762576e-01, ...,\n",
       "          0.0000000e+00, 0.0000000e+00, 0.0000000e+00],\n",
       "         [0.0000000e+00, 0.0000000e+00, 0.0000000e+00, ...,\n",
       "          0.0000000e+00, 7.7189296e-01, 0.0000000e+00]],\n",
       "\n",
       "        [[0.0000000e+00, 0.0000000e+00, 0.0000000e+00, ...,\n",
       "          0.0000000e+00, 5.3941995e-01, 0.0000000e+00],\n",
       "         [0.0000000e+00, 0.0000000e+00, 0.0000000e+00, ...,\n",
       "          0.0000000e+00, 1.1915765e+00, 0.0000000e+00],\n",
       "         [3.2991982e-01, 0.0000000e+00, 0.0000000e+00, ...,\n",
       "          0.0000000e+00, 8.1736803e-01, 0.0000000e+00],\n",
       "         ...,\n",
       "         [1.8521901e+00, 0.0000000e+00, 0.0000000e+00, ...,\n",
       "          0.0000000e+00, 0.0000000e+00, 0.0000000e+00],\n",
       "         [0.0000000e+00, 0.0000000e+00, 1.6352856e-01, ...,\n",
       "          0.0000000e+00, 0.0000000e+00, 0.0000000e+00],\n",
       "         [0.0000000e+00, 0.0000000e+00, 0.0000000e+00, ...,\n",
       "          0.0000000e+00, 6.4782619e-01, 0.0000000e+00]],\n",
       "\n",
       "        [[0.0000000e+00, 0.0000000e+00, 0.0000000e+00, ...,\n",
       "          0.0000000e+00, 5.8150011e-01, 0.0000000e+00],\n",
       "         [0.0000000e+00, 0.0000000e+00, 0.0000000e+00, ...,\n",
       "          0.0000000e+00, 6.9530219e-01, 0.0000000e+00],\n",
       "         [0.0000000e+00, 0.0000000e+00, 0.0000000e+00, ...,\n",
       "          4.6080507e-02, 7.4695480e-01, 0.0000000e+00],\n",
       "         ...,\n",
       "         [0.0000000e+00, 0.0000000e+00, 0.0000000e+00, ...,\n",
       "          0.0000000e+00, 4.3058720e-01, 0.0000000e+00],\n",
       "         [0.0000000e+00, 0.0000000e+00, 0.0000000e+00, ...,\n",
       "          0.0000000e+00, 4.6313971e-01, 0.0000000e+00],\n",
       "         [0.0000000e+00, 0.0000000e+00, 0.0000000e+00, ...,\n",
       "          0.0000000e+00, 8.1815219e-01, 0.0000000e+00]]],\n",
       "\n",
       "\n",
       "       ...,\n",
       "\n",
       "\n",
       "       [[[0.0000000e+00, 0.0000000e+00, 8.9914018e-01, ...,\n",
       "          0.0000000e+00, 8.4764189e-01, 0.0000000e+00],\n",
       "         [0.0000000e+00, 0.0000000e+00, 6.8619788e-01, ...,\n",
       "          3.7797697e-02, 6.5933818e-01, 0.0000000e+00],\n",
       "         [0.0000000e+00, 0.0000000e+00, 2.6259053e-01, ...,\n",
       "          0.0000000e+00, 7.3331171e-01, 0.0000000e+00],\n",
       "         ...,\n",
       "         [0.0000000e+00, 0.0000000e+00, 5.5834758e-01, ...,\n",
       "          0.0000000e+00, 9.8746842e-01, 0.0000000e+00],\n",
       "         [0.0000000e+00, 0.0000000e+00, 1.7535508e-01, ...,\n",
       "          0.0000000e+00, 9.7219586e-01, 0.0000000e+00],\n",
       "         [0.0000000e+00, 0.0000000e+00, 2.8143346e-02, ...,\n",
       "          0.0000000e+00, 9.2010856e-01, 0.0000000e+00]],\n",
       "\n",
       "        [[6.8407780e-01, 0.0000000e+00, 1.5331003e-01, ...,\n",
       "          0.0000000e+00, 8.8693357e-01, 0.0000000e+00],\n",
       "         [1.1132948e+00, 0.0000000e+00, 2.0729759e-01, ...,\n",
       "          0.0000000e+00, 0.0000000e+00, 0.0000000e+00],\n",
       "         [1.6350300e+00, 0.0000000e+00, 1.5517706e-01, ...,\n",
       "          0.0000000e+00, 2.6409659e-01, 0.0000000e+00],\n",
       "         ...,\n",
       "         [5.8792388e-01, 0.0000000e+00, 8.4240520e-01, ...,\n",
       "          1.8499625e-01, 1.0804533e+00, 0.0000000e+00],\n",
       "         [6.0124671e-01, 0.0000000e+00, 0.0000000e+00, ...,\n",
       "          1.9215845e-02, 6.7348874e-01, 0.0000000e+00],\n",
       "         [8.0869955e-01, 0.0000000e+00, 0.0000000e+00, ...,\n",
       "          0.0000000e+00, 6.1368960e-01, 0.0000000e+00]],\n",
       "\n",
       "        [[6.0034257e-01, 0.0000000e+00, 0.0000000e+00, ...,\n",
       "          0.0000000e+00, 9.5438129e-01, 0.0000000e+00],\n",
       "         [1.6193564e+00, 0.0000000e+00, 0.0000000e+00, ...,\n",
       "          1.0244821e-01, 7.4115300e-01, 0.0000000e+00],\n",
       "         [2.5025814e+00, 0.0000000e+00, 0.0000000e+00, ...,\n",
       "          0.0000000e+00, 0.0000000e+00, 0.0000000e+00],\n",
       "         ...,\n",
       "         [9.1146117e-01, 0.0000000e+00, 3.8846040e-01, ...,\n",
       "          0.0000000e+00, 9.9814880e-01, 0.0000000e+00],\n",
       "         [6.4749765e-01, 0.0000000e+00, 3.4359872e-02, ...,\n",
       "          0.0000000e+00, 6.8735397e-01, 0.0000000e+00],\n",
       "         [6.6347373e-01, 0.0000000e+00, 0.0000000e+00, ...,\n",
       "          0.0000000e+00, 1.0158978e+00, 0.0000000e+00]],\n",
       "\n",
       "        ...,\n",
       "\n",
       "        [[7.1626538e-01, 0.0000000e+00, 0.0000000e+00, ...,\n",
       "          0.0000000e+00, 1.1223561e+00, 0.0000000e+00],\n",
       "         [2.7526975e-01, 0.0000000e+00, 0.0000000e+00, ...,\n",
       "          0.0000000e+00, 7.9705507e-01, 0.0000000e+00],\n",
       "         [0.0000000e+00, 0.0000000e+00, 0.0000000e+00, ...,\n",
       "          0.0000000e+00, 1.0421076e+00, 0.0000000e+00],\n",
       "         ...,\n",
       "         [1.4719218e-02, 0.0000000e+00, 0.0000000e+00, ...,\n",
       "          6.8427622e-03, 1.5535600e+00, 0.0000000e+00],\n",
       "         [0.0000000e+00, 0.0000000e+00, 2.3158565e-01, ...,\n",
       "          0.0000000e+00, 9.0172660e-01, 0.0000000e+00],\n",
       "         [0.0000000e+00, 0.0000000e+00, 2.9122731e-01, ...,\n",
       "          0.0000000e+00, 6.1901563e-01, 0.0000000e+00]],\n",
       "\n",
       "        [[1.0398207e+00, 0.0000000e+00, 0.0000000e+00, ...,\n",
       "          0.0000000e+00, 1.5562816e+00, 0.0000000e+00],\n",
       "         [6.8396896e-01, 0.0000000e+00, 0.0000000e+00, ...,\n",
       "          0.0000000e+00, 8.8187093e-01, 0.0000000e+00],\n",
       "         [0.0000000e+00, 0.0000000e+00, 3.3845505e-01, ...,\n",
       "          0.0000000e+00, 1.0714487e+00, 0.0000000e+00],\n",
       "         ...,\n",
       "         [0.0000000e+00, 0.0000000e+00, 0.0000000e+00, ...,\n",
       "          0.0000000e+00, 3.3615419e-01, 0.0000000e+00],\n",
       "         [0.0000000e+00, 0.0000000e+00, 2.6060396e-01, ...,\n",
       "          0.0000000e+00, 7.2620112e-01, 0.0000000e+00],\n",
       "         [0.0000000e+00, 0.0000000e+00, 2.4698806e-01, ...,\n",
       "          0.0000000e+00, 8.2114267e-01, 0.0000000e+00]],\n",
       "\n",
       "        [[0.0000000e+00, 0.0000000e+00, 4.5690930e-01, ...,\n",
       "          0.0000000e+00, 1.1547205e+00, 0.0000000e+00],\n",
       "         [0.0000000e+00, 0.0000000e+00, 3.7618199e-01, ...,\n",
       "          0.0000000e+00, 6.6930747e-01, 0.0000000e+00],\n",
       "         [0.0000000e+00, 0.0000000e+00, 6.3252681e-01, ...,\n",
       "          0.0000000e+00, 6.1871237e-01, 0.0000000e+00],\n",
       "         ...,\n",
       "         [0.0000000e+00, 0.0000000e+00, 5.0154752e-01, ...,\n",
       "          0.0000000e+00, 3.7040064e-01, 0.0000000e+00],\n",
       "         [0.0000000e+00, 0.0000000e+00, 4.9558070e-01, ...,\n",
       "          0.0000000e+00, 6.3819087e-01, 0.0000000e+00],\n",
       "         [0.0000000e+00, 0.0000000e+00, 2.7320910e-01, ...,\n",
       "          0.0000000e+00, 5.4851586e-01, 0.0000000e+00]]],\n",
       "\n",
       "\n",
       "       [[[0.0000000e+00, 0.0000000e+00, 1.0486071e+00, ...,\n",
       "          6.4822994e-02, 1.2122641e+00, 0.0000000e+00],\n",
       "         [7.0652783e-02, 0.0000000e+00, 2.0193918e+00, ...,\n",
       "          5.5351013e-01, 1.0277117e+00, 0.0000000e+00],\n",
       "         [0.0000000e+00, 0.0000000e+00, 1.0944080e+00, ...,\n",
       "          0.0000000e+00, 1.1129315e+00, 0.0000000e+00],\n",
       "         ...,\n",
       "         [5.7934946e-01, 0.0000000e+00, 6.4416057e-01, ...,\n",
       "          1.0310581e+00, 8.3225811e-01, 0.0000000e+00],\n",
       "         [5.2692109e-01, 0.0000000e+00, 0.0000000e+00, ...,\n",
       "          1.1914698e+00, 9.4400984e-01, 0.0000000e+00],\n",
       "         [0.0000000e+00, 0.0000000e+00, 0.0000000e+00, ...,\n",
       "          0.0000000e+00, 7.6339030e-01, 0.0000000e+00]],\n",
       "\n",
       "        [[1.2095062e+00, 0.0000000e+00, 1.3005695e+00, ...,\n",
       "          4.8391849e-01, 6.8159932e-01, 0.0000000e+00],\n",
       "         [9.9119407e-01, 0.0000000e+00, 1.8923519e+00, ...,\n",
       "          5.7770419e-01, 3.3225539e-01, 0.0000000e+00],\n",
       "         [1.7227377e-01, 0.0000000e+00, 1.2728453e+00, ...,\n",
       "          1.6469151e-02, 7.5043160e-01, 0.0000000e+00],\n",
       "         ...,\n",
       "         [5.4703772e-01, 1.0250592e+00, 1.2638001e+00, ...,\n",
       "          7.0833760e-01, 0.0000000e+00, 0.0000000e+00],\n",
       "         [4.1468489e-01, 0.0000000e+00, 1.1793220e+00, ...,\n",
       "          7.9565823e-01, 6.9714952e-01, 0.0000000e+00],\n",
       "         [2.7800408e-01, 0.0000000e+00, 2.9845452e-01, ...,\n",
       "          0.0000000e+00, 8.3645386e-01, 0.0000000e+00]],\n",
       "\n",
       "        [[3.8878030e-01, 0.0000000e+00, 8.9529121e-01, ...,\n",
       "          0.0000000e+00, 6.3837630e-01, 0.0000000e+00],\n",
       "         [9.0779908e-02, 0.0000000e+00, 1.3298470e-01, ...,\n",
       "          0.0000000e+00, 4.0550935e-01, 0.0000000e+00],\n",
       "         [0.0000000e+00, 0.0000000e+00, 7.0861369e-02, ...,\n",
       "          1.2624692e+00, 4.8513395e-01, 0.0000000e+00],\n",
       "         ...,\n",
       "         [7.4490160e-03, 1.2022040e+00, 2.4408618e-01, ...,\n",
       "          7.1203482e-01, 0.0000000e+00, 0.0000000e+00],\n",
       "         [0.0000000e+00, 0.0000000e+00, 6.7774487e-01, ...,\n",
       "          2.3230961e-01, 5.8539408e-01, 0.0000000e+00],\n",
       "         [0.0000000e+00, 0.0000000e+00, 3.2406056e-01, ...,\n",
       "          0.0000000e+00, 6.7447978e-01, 0.0000000e+00]],\n",
       "\n",
       "        ...,\n",
       "\n",
       "        [[0.0000000e+00, 0.0000000e+00, 9.8144621e-02, ...,\n",
       "          0.0000000e+00, 1.5905070e+00, 0.0000000e+00],\n",
       "         [1.5126008e-01, 1.1501813e-01, 0.0000000e+00, ...,\n",
       "          7.2488034e-01, 2.3115641e-01, 0.0000000e+00],\n",
       "         [3.4654829e-01, 0.0000000e+00, 0.0000000e+00, ...,\n",
       "          1.2449555e+00, 0.0000000e+00, 0.0000000e+00],\n",
       "         ...,\n",
       "         [0.0000000e+00, 0.0000000e+00, 0.0000000e+00, ...,\n",
       "          0.0000000e+00, 7.4571365e-01, 0.0000000e+00],\n",
       "         [0.0000000e+00, 0.0000000e+00, 0.0000000e+00, ...,\n",
       "          0.0000000e+00, 5.5793083e-01, 0.0000000e+00],\n",
       "         [0.0000000e+00, 0.0000000e+00, 0.0000000e+00, ...,\n",
       "          0.0000000e+00, 4.4602546e-01, 0.0000000e+00]],\n",
       "\n",
       "        [[0.0000000e+00, 0.0000000e+00, 1.1609802e-01, ...,\n",
       "          0.0000000e+00, 1.4249144e+00, 0.0000000e+00],\n",
       "         [0.0000000e+00, 3.3474118e-01, 0.0000000e+00, ...,\n",
       "          0.0000000e+00, 1.2806363e+00, 0.0000000e+00],\n",
       "         [1.9976614e-01, 0.0000000e+00, 0.0000000e+00, ...,\n",
       "          0.0000000e+00, 9.2778093e-01, 0.0000000e+00],\n",
       "         ...,\n",
       "         [8.5708350e-01, 0.0000000e+00, 0.0000000e+00, ...,\n",
       "          3.4087822e-01, 6.3587809e-01, 0.0000000e+00],\n",
       "         [4.1341040e-01, 0.0000000e+00, 0.0000000e+00, ...,\n",
       "          0.0000000e+00, 6.1150992e-01, 0.0000000e+00],\n",
       "         [0.0000000e+00, 0.0000000e+00, 0.0000000e+00, ...,\n",
       "          0.0000000e+00, 4.3928957e-01, 0.0000000e+00]],\n",
       "\n",
       "        [[0.0000000e+00, 0.0000000e+00, 2.3386008e-01, ...,\n",
       "          0.0000000e+00, 9.6192586e-01, 0.0000000e+00],\n",
       "         [0.0000000e+00, 0.0000000e+00, 2.9769111e-01, ...,\n",
       "          0.0000000e+00, 7.7033597e-01, 0.0000000e+00],\n",
       "         [0.0000000e+00, 0.0000000e+00, 2.0185173e-01, ...,\n",
       "          0.0000000e+00, 7.8267324e-01, 0.0000000e+00],\n",
       "         ...,\n",
       "         [7.7953547e-01, 0.0000000e+00, 5.8292425e-01, ...,\n",
       "          0.0000000e+00, 1.5969414e-01, 0.0000000e+00],\n",
       "         [3.1578425e-01, 0.0000000e+00, 5.8706921e-01, ...,\n",
       "          0.0000000e+00, 5.3478736e-01, 0.0000000e+00],\n",
       "         [0.0000000e+00, 0.0000000e+00, 0.0000000e+00, ...,\n",
       "          0.0000000e+00, 4.9978969e-01, 0.0000000e+00]]],\n",
       "\n",
       "\n",
       "       [[[2.7049336e-01, 0.0000000e+00, 0.0000000e+00, ...,\n",
       "          0.0000000e+00, 3.7700093e-01, 0.0000000e+00],\n",
       "         [0.0000000e+00, 0.0000000e+00, 4.3585074e-01, ...,\n",
       "          0.0000000e+00, 3.4458286e-01, 0.0000000e+00],\n",
       "         [0.0000000e+00, 0.0000000e+00, 4.4900048e-01, ...,\n",
       "          0.0000000e+00, 4.0332049e-01, 0.0000000e+00],\n",
       "         ...,\n",
       "         [0.0000000e+00, 0.0000000e+00, 3.9060107e-01, ...,\n",
       "          0.0000000e+00, 2.5573006e-01, 0.0000000e+00],\n",
       "         [0.0000000e+00, 0.0000000e+00, 2.7339533e-01, ...,\n",
       "          0.0000000e+00, 4.7771466e-01, 0.0000000e+00],\n",
       "         [0.0000000e+00, 0.0000000e+00, 0.0000000e+00, ...,\n",
       "          0.0000000e+00, 7.2595680e-01, 0.0000000e+00]],\n",
       "\n",
       "        [[3.1146306e-01, 0.0000000e+00, 5.5460137e-01, ...,\n",
       "          0.0000000e+00, 4.8252624e-01, 0.0000000e+00],\n",
       "         [1.5185897e+00, 0.0000000e+00, 1.8322313e+00, ...,\n",
       "          0.0000000e+00, 0.0000000e+00, 0.0000000e+00],\n",
       "         [1.3467126e+00, 0.0000000e+00, 4.2439890e-01, ...,\n",
       "          0.0000000e+00, 0.0000000e+00, 0.0000000e+00],\n",
       "         ...,\n",
       "         [3.4240571e-01, 0.0000000e+00, 0.0000000e+00, ...,\n",
       "          7.1879700e-02, 3.6009553e-01, 0.0000000e+00],\n",
       "         [8.7532973e-01, 0.0000000e+00, 7.1718770e-01, ...,\n",
       "          0.0000000e+00, 8.1144500e-01, 0.0000000e+00],\n",
       "         [3.3288336e-01, 0.0000000e+00, 6.9584203e-01, ...,\n",
       "          0.0000000e+00, 7.7441132e-01, 0.0000000e+00]],\n",
       "\n",
       "        [[4.1210949e-01, 0.0000000e+00, 1.5174547e+00, ...,\n",
       "          0.0000000e+00, 3.9747113e-01, 0.0000000e+00],\n",
       "         [1.9367379e+00, 0.0000000e+00, 2.8645194e+00, ...,\n",
       "          0.0000000e+00, 0.0000000e+00, 0.0000000e+00],\n",
       "         [1.8847926e+00, 0.0000000e+00, 8.7965798e-01, ...,\n",
       "          0.0000000e+00, 0.0000000e+00, 0.0000000e+00],\n",
       "         ...,\n",
       "         [5.0837928e-01, 0.0000000e+00, 0.0000000e+00, ...,\n",
       "          0.0000000e+00, 7.6910603e-01, 0.0000000e+00],\n",
       "         [9.0477014e-01, 0.0000000e+00, 1.0330601e+00, ...,\n",
       "          0.0000000e+00, 8.2314944e-01, 0.0000000e+00],\n",
       "         [4.7334817e-01, 0.0000000e+00, 9.5951867e-01, ...,\n",
       "          0.0000000e+00, 6.1776656e-01, 0.0000000e+00]],\n",
       "\n",
       "        ...,\n",
       "\n",
       "        [[1.3184049e+00, 0.0000000e+00, 1.4112580e-01, ...,\n",
       "          0.0000000e+00, 7.3217803e-01, 0.0000000e+00],\n",
       "         [1.6415153e+00, 0.0000000e+00, 1.4333200e-01, ...,\n",
       "          0.0000000e+00, 3.0732214e-02, 0.0000000e+00],\n",
       "         [1.1229630e+00, 0.0000000e+00, 3.1352177e-01, ...,\n",
       "          0.0000000e+00, 6.8825167e-01, 0.0000000e+00],\n",
       "         ...,\n",
       "         [4.9288082e-01, 0.0000000e+00, 1.8710020e-01, ...,\n",
       "          0.0000000e+00, 6.6559392e-01, 0.0000000e+00],\n",
       "         [6.1871070e-01, 0.0000000e+00, 0.0000000e+00, ...,\n",
       "          0.0000000e+00, 7.6225793e-01, 0.0000000e+00],\n",
       "         [3.6821663e-01, 0.0000000e+00, 0.0000000e+00, ...,\n",
       "          0.0000000e+00, 1.1044796e+00, 0.0000000e+00]],\n",
       "\n",
       "        [[1.0230118e+00, 0.0000000e+00, 9.0072304e-02, ...,\n",
       "          0.0000000e+00, 7.3896313e-01, 0.0000000e+00],\n",
       "         [9.7469276e-01, 0.0000000e+00, 0.0000000e+00, ...,\n",
       "          0.0000000e+00, 1.9684190e-01, 0.0000000e+00],\n",
       "         [8.2073474e-01, 0.0000000e+00, 1.3267589e-01, ...,\n",
       "          0.0000000e+00, 3.9579052e-01, 0.0000000e+00],\n",
       "         ...,\n",
       "         [7.9313248e-01, 0.0000000e+00, 1.9524693e-03, ...,\n",
       "          0.0000000e+00, 2.9555124e-01, 0.0000000e+00],\n",
       "         [7.9383862e-01, 0.0000000e+00, 0.0000000e+00, ...,\n",
       "          0.0000000e+00, 8.1293094e-01, 0.0000000e+00],\n",
       "         [6.7126536e-01, 0.0000000e+00, 0.0000000e+00, ...,\n",
       "          0.0000000e+00, 1.1430476e+00, 0.0000000e+00]],\n",
       "\n",
       "        [[0.0000000e+00, 0.0000000e+00, 4.0108472e-01, ...,\n",
       "          0.0000000e+00, 1.0494318e+00, 0.0000000e+00],\n",
       "         [2.3671150e-02, 0.0000000e+00, 1.0080867e+00, ...,\n",
       "          0.0000000e+00, 5.8964837e-01, 0.0000000e+00],\n",
       "         [2.5692970e-01, 0.0000000e+00, 9.1043687e-01, ...,\n",
       "          0.0000000e+00, 6.4721841e-01, 0.0000000e+00],\n",
       "         ...,\n",
       "         [2.9825151e-02, 0.0000000e+00, 0.0000000e+00, ...,\n",
       "          0.0000000e+00, 5.3599471e-01, 0.0000000e+00],\n",
       "         [0.0000000e+00, 0.0000000e+00, 0.0000000e+00, ...,\n",
       "          0.0000000e+00, 9.2585099e-01, 0.0000000e+00],\n",
       "         [9.3088582e-02, 0.0000000e+00, 6.7031538e-01, ...,\n",
       "          0.0000000e+00, 9.1006261e-01, 0.0000000e+00]]]], dtype=float32)"
      ]
     },
     "execution_count": 47,
     "metadata": {},
     "output_type": "execute_result"
    }
   ],
   "source": [
    "X_vgg_test"
   ]
  },
  {
   "cell_type": "code",
   "execution_count": 48,
   "metadata": {},
   "outputs": [],
   "source": [
    "model3 = Sequential()\n",
    "\n",
    "model3.add(Flatten(input_shape=(7,7,512)))\n",
    "model3.add(Dense(512, activation='relu'))\n",
    "model3.add(Dropout(0.5))\n",
    "model3.add(Dense(6, activation='softmax'))"
   ]
  },
  {
   "cell_type": "code",
   "execution_count": 49,
   "metadata": {},
   "outputs": [],
   "source": [
    "model3.compile(\"rmsprop\", \"categorical_crossentropy\", metrics=[\"accuracy\"])"
   ]
  },
  {
   "cell_type": "code",
   "execution_count": 50,
   "metadata": {},
   "outputs": [
    {
     "name": "stdout",
     "output_type": "stream",
     "text": [
      "Epoch 1/30\n",
      " - 3s - loss: 10.4372 - acc: 0.2333\n",
      "Epoch 2/30\n",
      " - 3s - loss: 9.0829 - acc: 0.3500\n",
      "Epoch 3/30\n",
      " - 3s - loss: 7.0951 - acc: 0.5095\n",
      "Epoch 4/30\n",
      " - 3s - loss: 6.1639 - acc: 0.5833\n",
      "Epoch 5/30\n",
      " - 3s - loss: 5.1215 - acc: 0.6119\n",
      "Epoch 6/30\n",
      " - 3s - loss: 3.5818 - acc: 0.6643\n",
      "Epoch 7/30\n",
      " - 3s - loss: 1.1367 - acc: 0.8476\n",
      "Epoch 8/30\n",
      " - 3s - loss: 0.3283 - acc: 0.9476\n",
      "Epoch 9/30\n",
      " - 3s - loss: 0.4269 - acc: 0.9262\n",
      "Epoch 10/30\n",
      " - 3s - loss: 0.5789 - acc: 0.9143\n",
      "Epoch 11/30\n",
      " - 3s - loss: 0.3202 - acc: 0.9405\n",
      "Epoch 12/30\n",
      " - 3s - loss: 0.1834 - acc: 0.9714\n",
      "Epoch 13/30\n",
      " - 3s - loss: 0.0861 - acc: 0.9738\n",
      "Epoch 14/30\n",
      " - 3s - loss: 0.0874 - acc: 0.9786\n",
      "Epoch 15/30\n",
      " - 3s - loss: 0.1649 - acc: 0.9738\n",
      "Epoch 16/30\n",
      " - 3s - loss: 0.1700 - acc: 0.9667\n",
      "Epoch 17/30\n",
      " - 3s - loss: 0.0394 - acc: 0.9905\n",
      "Epoch 18/30\n",
      " - 3s - loss: 0.0534 - acc: 0.9857\n",
      "Epoch 19/30\n",
      " - 3s - loss: 0.0769 - acc: 0.9833\n",
      "Epoch 20/30\n",
      " - 3s - loss: 0.1088 - acc: 0.9833\n",
      "Epoch 21/30\n",
      " - 3s - loss: 0.1038 - acc: 0.9881\n",
      "Epoch 22/30\n",
      " - 4s - loss: 0.0595 - acc: 0.9833\n",
      "Epoch 23/30\n",
      " - 4s - loss: 0.0041 - acc: 0.9976\n",
      "Epoch 24/30\n",
      " - 4s - loss: 0.1421 - acc: 0.9738\n",
      "Epoch 25/30\n",
      " - 4s - loss: 0.0349 - acc: 0.9905\n",
      "Epoch 26/30\n",
      " - 4s - loss: 0.1015 - acc: 0.9810\n",
      "Epoch 27/30\n",
      " - 4s - loss: 0.0047 - acc: 0.9976\n",
      "Epoch 28/30\n",
      " - 4s - loss: 1.0066e-04 - acc: 1.0000\n",
      "Epoch 29/30\n",
      " - 4s - loss: 1.4250e-05 - acc: 1.0000\n",
      "Epoch 30/30\n",
      " - 4s - loss: 0.0073 - acc: 0.9976\n"
     ]
    },
    {
     "data": {
      "text/plain": [
       "<keras.callbacks.History at 0xd58fad1a58>"
      ]
     },
     "execution_count": 50,
     "metadata": {},
     "output_type": "execute_result"
    }
   ],
   "source": [
    "model3.fit(X_vgg_train,Y_train,epochs=30,verbose=2)"
   ]
  },
  {
   "cell_type": "code",
   "execution_count": 51,
   "metadata": {},
   "outputs": [
    {
     "data": {
      "text/plain": [
       "array([1, 4, 5, 0, 1, 2, 0, 4, 0, 3, 0, 1, 1, 5, 3, 2, 0, 2, 1, 0, 0, 5,\n",
       "       5, 5, 3, 5, 0, 1, 5, 4, 5, 1, 0, 2, 1, 4, 1, 5, 4, 2, 3, 0, 5, 5,\n",
       "       0, 1, 4, 1, 0, 4, 2, 2, 1, 5, 5, 3, 2, 1, 1, 1, 0, 1, 1, 5, 5, 0,\n",
       "       1, 1, 0, 3, 3, 0, 4, 3, 3, 5, 3, 2, 5, 4, 2, 4, 5, 3, 0, 0, 1, 2,\n",
       "       3, 2, 2, 5, 0, 3, 2, 2, 2, 0, 1, 0, 0, 2, 5, 3, 0, 4, 1, 2, 2, 4,\n",
       "       1, 4, 5, 5, 3, 3, 3, 1, 4, 4, 1, 0, 3, 5, 1, 1, 5, 2, 5, 4, 0, 5,\n",
       "       1, 1, 4, 1, 0, 0, 2, 4, 0, 2, 1, 0, 4, 1, 3, 4, 0, 1, 5, 5, 3, 3,\n",
       "       5, 2, 0, 4, 3, 0, 3, 2, 0, 4, 3, 1, 2, 2, 5, 3, 2, 2, 5, 4, 1, 0,\n",
       "       1, 0, 0, 2], dtype=int64)"
      ]
     },
     "execution_count": 51,
     "metadata": {},
     "output_type": "execute_result"
    }
   ],
   "source": [
    "# make predictions for testing set\n",
    "y_pred = model3.predict_classes(X_vgg_test)\n",
    "y_pred"
   ]
  },
  {
   "cell_type": "code",
   "execution_count": 52,
   "metadata": {},
   "outputs": [],
   "source": [
    "Ynew=Y_test.argmax(axis=1)"
   ]
  },
  {
   "cell_type": "code",
   "execution_count": 53,
   "metadata": {},
   "outputs": [
    {
     "name": "stdout",
     "output_type": "stream",
     "text": [
      "The accuracy of the model vgg is  0.95\n"
     ]
    }
   ],
   "source": [
    "print('The accuracy of the model vgg is ',(y_pred==Ynew).mean())"
   ]
  },
  {
   "cell_type": "code",
   "execution_count": 54,
   "metadata": {},
   "outputs": [
    {
     "data": {
      "text/plain": [
       "array([[36,  1,  0,  0,  1,  0],\n",
       "       [ 0, 30,  0,  1,  0,  0],\n",
       "       [ 0,  0, 29,  0,  0,  0],\n",
       "       [ 0,  1,  0, 23,  0,  0],\n",
       "       [ 0,  2,  0,  1, 22,  0],\n",
       "       [ 0,  2,  0,  0,  0, 31]], dtype=int64)"
      ]
     },
     "execution_count": 54,
     "metadata": {},
     "output_type": "execute_result"
    }
   ],
   "source": [
    "from sklearn.metrics import confusion_matrix\n",
    "confusion_matrix(y_test, y_pred)"
   ]
  },
  {
   "cell_type": "code",
   "execution_count": 55,
   "metadata": {},
   "outputs": [
    {
     "name": "stdout",
     "output_type": "stream",
     "text": [
      "Counter de Test: Counter({0: 38, 5: 33, 1: 31, 2: 29, 4: 25, 3: 24})\n",
      "Counter de Test: [(0, 38), (5, 33), (1, 31), (2, 29), (4, 25), (3, 24)]\n"
     ]
    }
   ],
   "source": [
    "from collections import Counter\n",
    "\n",
    "e = Counter(Ynew)\n",
    "e\n",
    "print('Counter de Test:', e)\n",
    "print('Counter de Test:', e.most_common(10))"
   ]
  },
  {
   "cell_type": "code",
   "execution_count": 56,
   "metadata": {},
   "outputs": [
    {
     "name": "stdout",
     "output_type": "stream",
     "text": [
      "Counter de Predic: Counter({1: 36, 0: 36, 5: 31, 2: 29, 3: 25, 4: 23})\n",
      "Counter de Predic: [(1, 36), (0, 36), (5, 31), (2, 29), (3, 25), (4, 23)]\n"
     ]
    }
   ],
   "source": [
    "f = Counter(y_pred)\n",
    "f\n",
    "print('Counter de Predic:', f)\n",
    "print('Counter de Predic:', f.most_common(10))"
   ]
  },
  {
   "cell_type": "markdown",
   "metadata": {},
   "source": [
    "### 1.2 Modelo con Keras VGG con ImageNet CONCLUSIONES de VGG con IMAGENET \n",
    "\n",
    "\n",
    "Para este caso se observa que las categorías con más datos son la 0, la 5 y la 1, para el caso de los datos de TEST en la la variable de predicción, y al compararla con el resultado de la predicción del modelo se observa que son las categorias 1, 0 y 5, es decir que las categorias 1 0 y 5, son las que no son acertadas según el accuracy del modelo."
   ]
  },
  {
   "cell_type": "markdown",
   "metadata": {},
   "source": [
    "### 1.1 Modelo con Keras CONCLUSIONES\n",
    "\n",
    "* La muestra se tomo de manera aleatoria para que exista representación de cada grupo de pajaros\n",
    "* El modelo con VGG16 muestra un accuracy de 0.43 \n",
    "* El modelo con Keras muestra un accuracy de 0.95\n",
    "* Con el modelo de VGG16 muestra mejor clasificación por que se toma como base una red pre entrenada.\n"
   ]
  },
  {
   "cell_type": "markdown",
   "metadata": {},
   "source": [
    "# 2. Transfer learning\n",
    "   * Use the pre-trained CNN model as a feature extractor. Create a new model that replaces the top part of the pretrained CNN with two layers of 256 and 6 neurons respectively.\n",
    "   * Train the model with the training images from the bird dataset. \n",
    "   * Evaluate the performance over the test dataset reporting the results in a confusion matrix. Discuss the results."
   ]
  },
  {
   "cell_type": "code",
   "execution_count": 90,
   "metadata": {},
   "outputs": [],
   "source": [
    "from keras.utils import np_utils\n",
    "nb_classes = y_train.max() + 1\n",
    "Y_train = np_utils.to_categorical(y_train, nb_classes)\n",
    "Y_test = np_utils.to_categorical(y_test, nb_classes)"
   ]
  },
  {
   "cell_type": "code",
   "execution_count": 58,
   "metadata": {},
   "outputs": [
    {
     "data": {
      "text/plain": [
       "(420, 224, 224, 3)"
      ]
     },
     "execution_count": 58,
     "metadata": {},
     "output_type": "execute_result"
    }
   ],
   "source": [
    "X_train.shape"
   ]
  },
  {
   "cell_type": "code",
   "execution_count": 59,
   "metadata": {},
   "outputs": [],
   "source": [
    "from keras.applications.vgg16 import VGG16\n",
    "model_vgg16 = VGG16(weights='imagenet', include_top=False)"
   ]
  },
  {
   "cell_type": "code",
   "execution_count": 60,
   "metadata": {},
   "outputs": [],
   "source": [
    "predict=model_vgg16.predict(X_train)"
   ]
  },
  {
   "cell_type": "code",
   "execution_count": 61,
   "metadata": {},
   "outputs": [
    {
     "data": {
      "text/plain": [
       "(420, 7, 7, 512)"
      ]
     },
     "execution_count": 61,
     "metadata": {},
     "output_type": "execute_result"
    }
   ],
   "source": [
    "predict.shape"
   ]
  },
  {
   "cell_type": "code",
   "execution_count": 62,
   "metadata": {},
   "outputs": [],
   "source": [
    "from keras.models import Sequential\n",
    "from keras.layers import Dense, Dropout, Activation, Flatten\n",
    "from keras.layers import Conv2D, MaxPooling2D\n",
    "\n",
    "model = Sequential()\n",
    "model.add(Flatten(input_shape=(7,7,512)))\n",
    "model.add(Dense(512, activation='relu'))\n",
    "model.add(Dropout(0.5))\n",
    "model.add(Dense(6, activation='softmax'))\n",
    "model.compile(\"rmsprop\", \"categorical_crossentropy\", metrics=[\"accuracy\"])"
   ]
  },
  {
   "cell_type": "code",
   "execution_count": 63,
   "metadata": {},
   "outputs": [
    {
     "name": "stdout",
     "output_type": "stream",
     "text": [
      "Epoch 1/50\n",
      " - 3s - loss: 11.5169 - acc: 0.1833\n",
      "Epoch 2/50\n",
      " - 3s - loss: 7.7056 - acc: 0.4071\n",
      "Epoch 3/50\n",
      " - 3s - loss: 4.5492 - acc: 0.6452\n",
      "Epoch 4/50\n",
      " - 3s - loss: 3.8922 - acc: 0.6929\n",
      "Epoch 5/50\n",
      " - 3s - loss: 3.1271 - acc: 0.7738\n",
      "Epoch 6/50\n",
      " - 3s - loss: 3.1736 - acc: 0.7619\n",
      "Epoch 7/50\n",
      " - 3s - loss: 2.9226 - acc: 0.7976\n",
      "Epoch 8/50\n",
      " - 3s - loss: 2.3675 - acc: 0.7881\n",
      "Epoch 9/50\n",
      " - 3s - loss: 0.9497 - acc: 0.8595\n",
      "Epoch 10/50\n",
      " - 3s - loss: 0.4630 - acc: 0.9405\n",
      "Epoch 11/50\n",
      " - 3s - loss: 0.4458 - acc: 0.9286\n",
      "Epoch 12/50\n",
      " - 4s - loss: 0.4025 - acc: 0.9381\n",
      "Epoch 13/50\n",
      " - 4s - loss: 0.0739 - acc: 0.9857\n",
      "Epoch 14/50\n",
      " - 4s - loss: 0.2429 - acc: 0.9571\n",
      "Epoch 15/50\n",
      " - 4s - loss: 0.0570 - acc: 0.9810\n",
      "Epoch 16/50\n",
      " - 4s - loss: 0.0079 - acc: 0.9952\n",
      "Epoch 17/50\n",
      " - 4s - loss: 0.2717 - acc: 0.9571\n",
      "Epoch 18/50\n",
      " - 4s - loss: 0.0279 - acc: 0.9929\n",
      "Epoch 19/50\n",
      " - 4s - loss: 0.3799 - acc: 0.9452\n",
      "Epoch 20/50\n",
      " - 4s - loss: 0.0927 - acc: 0.9810\n",
      "Epoch 21/50\n",
      " - 4s - loss: 0.1808 - acc: 0.9595\n",
      "Epoch 22/50\n",
      " - 4s - loss: 0.0209 - acc: 0.9929\n",
      "Epoch 23/50\n",
      " - 4s - loss: 3.1158e-04 - acc: 1.0000\n",
      "Epoch 24/50\n",
      " - 4s - loss: 0.1520 - acc: 0.9714\n",
      "Epoch 25/50\n",
      " - 4s - loss: 0.0577 - acc: 0.9881\n",
      "Epoch 26/50\n",
      " - 4s - loss: 0.0058 - acc: 0.9952\n",
      "Epoch 27/50\n",
      " - 4s - loss: 0.0533 - acc: 0.9952\n",
      "Epoch 28/50\n",
      " - 4s - loss: 0.0847 - acc: 0.9810\n",
      "Epoch 29/50\n",
      " - 4s - loss: 0.0251 - acc: 0.9929\n",
      "Epoch 30/50\n",
      " - 4s - loss: 0.0860 - acc: 0.9810\n",
      "Epoch 31/50\n",
      " - 4s - loss: 0.0613 - acc: 0.9905\n",
      "Epoch 32/50\n",
      " - 4s - loss: 0.0792 - acc: 0.9833\n",
      "Epoch 33/50\n",
      " - 4s - loss: 0.1024 - acc: 0.9857\n",
      "Epoch 34/50\n",
      " - 4s - loss: 0.0612 - acc: 0.9881\n",
      "Epoch 35/50\n",
      " - 4s - loss: 0.0027 - acc: 0.9976\n",
      "Epoch 36/50\n",
      " - 4s - loss: 0.1174 - acc: 0.9786\n",
      "Epoch 37/50\n",
      " - 4s - loss: 1.7002e-04 - acc: 1.0000\n",
      "Epoch 38/50\n",
      " - 4s - loss: 0.0318 - acc: 0.9952\n",
      "Epoch 39/50\n",
      " - 4s - loss: 0.0389 - acc: 0.9976\n",
      "Epoch 40/50\n",
      " - 4s - loss: 0.0609 - acc: 0.9929\n",
      "Epoch 41/50\n",
      " - 4s - loss: 3.5159e-05 - acc: 1.0000\n",
      "Epoch 42/50\n",
      " - 4s - loss: 0.1052 - acc: 0.9786\n",
      "Epoch 43/50\n",
      " - 4s - loss: 0.0402 - acc: 0.9952\n",
      "Epoch 44/50\n",
      " - 4s - loss: 0.0348 - acc: 0.9952\n",
      "Epoch 45/50\n",
      " - 4s - loss: 0.0101 - acc: 0.9952\n",
      "Epoch 46/50\n",
      " - 4s - loss: 0.0603 - acc: 0.9881\n",
      "Epoch 47/50\n",
      " - 4s - loss: 0.0014 - acc: 1.0000\n",
      "Epoch 48/50\n",
      " - 4s - loss: 7.8601e-05 - acc: 1.0000\n",
      "Epoch 49/50\n",
      " - 4s - loss: 2.1413e-06 - acc: 1.0000\n",
      "Epoch 50/50\n",
      " - 4s - loss: 0.0127 - acc: 0.9952\n"
     ]
    },
    {
     "data": {
      "text/plain": [
       "<keras.callbacks.History at 0xd59160dd68>"
      ]
     },
     "execution_count": 63,
     "metadata": {},
     "output_type": "execute_result"
    }
   ],
   "source": [
    "model.fit(predict,Y_train,epochs=50,verbose=2)"
   ]
  },
  {
   "cell_type": "code",
   "execution_count": 64,
   "metadata": {},
   "outputs": [],
   "source": [
    "x_test_new = model_vgg16.predict(X_test)"
   ]
  },
  {
   "cell_type": "code",
   "execution_count": 65,
   "metadata": {},
   "outputs": [
    {
     "data": {
      "text/plain": [
       "array([1, 4, 5, 0, 1, 2, 0, 4, 0, 3, 0, 1, 1, 5, 3, 2, 0, 2, 1, 0, 0, 1,\n",
       "       1, 1, 3, 1, 0, 1, 5, 4, 5, 1, 0, 2, 1, 4, 1, 5, 4, 2, 3, 0, 1, 4,\n",
       "       0, 1, 4, 1, 0, 4, 2, 2, 1, 1, 5, 3, 2, 1, 1, 1, 0, 1, 1, 5, 5, 0,\n",
       "       1, 1, 0, 3, 3, 0, 4, 3, 3, 1, 3, 2, 5, 4, 2, 4, 5, 3, 0, 0, 1, 2,\n",
       "       3, 2, 2, 5, 0, 3, 2, 2, 2, 0, 4, 0, 3, 2, 5, 3, 0, 4, 1, 2, 2, 4,\n",
       "       1, 4, 1, 5, 3, 3, 3, 1, 4, 4, 1, 0, 3, 5, 1, 1, 5, 2, 1, 4, 0, 1,\n",
       "       1, 1, 4, 1, 0, 0, 2, 0, 0, 2, 1, 0, 4, 1, 3, 4, 0, 0, 5, 1, 3, 3,\n",
       "       5, 2, 0, 4, 1, 0, 3, 2, 0, 4, 3, 1, 2, 2, 3, 3, 2, 2, 1, 4, 1, 0,\n",
       "       4, 0, 0, 2], dtype=int64)"
      ]
     },
     "execution_count": 65,
     "metadata": {},
     "output_type": "execute_result"
    }
   ],
   "source": [
    "# make predictions for testing set\n",
    "y_pred = model.predict_classes(x_test_new)\n",
    "y_pred"
   ]
  },
  {
   "cell_type": "code",
   "execution_count": 66,
   "metadata": {},
   "outputs": [],
   "source": [
    "Ynew=Y_test.argmax(axis=1)"
   ]
  },
  {
   "cell_type": "code",
   "execution_count": 67,
   "metadata": {},
   "outputs": [
    {
     "name": "stdout",
     "output_type": "stream",
     "text": [
      "The accuracy of the model is  0.8944444444444445\n"
     ]
    }
   ],
   "source": [
    "print('The accuracy of the model is ',(y_pred==Ynew).mean())"
   ]
  },
  {
   "cell_type": "code",
   "execution_count": 68,
   "metadata": {},
   "outputs": [
    {
     "data": {
      "text/plain": [
       "array([[37,  0,  0,  1,  0,  0],\n",
       "       [ 0, 31,  0,  0,  0,  0],\n",
       "       [ 0,  0, 29,  0,  0,  0],\n",
       "       [ 0,  1,  0, 23,  0,  0],\n",
       "       [ 0,  0,  0,  1, 24,  0],\n",
       "       [ 0, 14,  0,  1,  1, 17]], dtype=int64)"
      ]
     },
     "execution_count": 68,
     "metadata": {},
     "output_type": "execute_result"
    }
   ],
   "source": [
    "from sklearn.metrics import confusion_matrix\n",
    "confusion_matrix(y_test, y_pred)"
   ]
  },
  {
   "cell_type": "markdown",
   "metadata": {},
   "source": [
    "### 2.1. Modelo con Trasnfer Learning CONCLUSIONES\n"
   ]
  },
  {
   "cell_type": "markdown",
   "metadata": {},
   "source": [
    "* Al utilizar Activación (SoftMax) se usa la capa final que actúa básicamente como un normalizador y ayuda a asignar \n",
    "la clasificación  que corresponda con una clase en especifica de pajaritos.\n",
    "\n",
    "* El algoritmo obtuvo una precisión de prueba 0.89"
   ]
  },
  {
   "cell_type": "markdown",
   "metadata": {},
   "source": [
    "# 3. Fine tuning\n",
    "   * Repeat the experiment from the last question, but this time allow all the layers to be trained. \n",
    "   * Compare and discuss the results."
   ]
  },
  {
   "cell_type": "code",
   "execution_count": 26,
   "metadata": {},
   "outputs": [],
   "source": [
    "from tensorflow.python.keras.models import Model, Sequential\n",
    "from tensorflow.python.keras.layers import Dense, Flatten, Dropout\n",
    "from tensorflow.python.keras.applications import VGG16\n",
    "from tensorflow.python.keras.applications.vgg16 import preprocess_input, decode_predictions\n",
    "from tensorflow.python.keras.preprocessing.image import ImageDataGenerator\n",
    "from tensorflow.python.keras.optimizers import Adam, RMSprop\n",
    "import numpy as np\n"
   ]
  },
  {
   "cell_type": "code",
   "execution_count": null,
   "metadata": {},
   "outputs": [],
   "source": [
    "from keras.utils import np_utils\n",
    "y_train_vgg = np_utils.to_categorical(y_train,6)\n",
    "y_test_vgg = np_utils.to_categorical(y_test,6)"
   ]
  },
  {
   "cell_type": "markdown",
   "metadata": {},
   "source": [
    "En esta sección se realizara la carga de la ultima capa del modelo pre-entrenado VGG, con el fin de realizar el ajuste de la ultima capa por medio de codigo."
   ]
  },
  {
   "cell_type": "code",
   "execution_count": 66,
   "metadata": {},
   "outputs": [
    {
     "name": "stdout",
     "output_type": "stream",
     "text": [
      "_________________________________________________________________\n",
      "Layer (type)                 Output Shape              Param #   \n",
      "=================================================================\n",
      "input_2 (InputLayer)         (None, 224, 224, 3)       0         \n",
      "_________________________________________________________________\n",
      "block1_conv1 (Conv2D)        (None, 224, 224, 64)      1792      \n",
      "_________________________________________________________________\n",
      "block1_conv2 (Conv2D)        (None, 224, 224, 64)      36928     \n",
      "_________________________________________________________________\n",
      "block1_pool (MaxPooling2D)   (None, 112, 112, 64)      0         \n",
      "_________________________________________________________________\n",
      "block2_conv1 (Conv2D)        (None, 112, 112, 128)     73856     \n",
      "_________________________________________________________________\n",
      "block2_conv2 (Conv2D)        (None, 112, 112, 128)     147584    \n",
      "_________________________________________________________________\n",
      "block2_pool (MaxPooling2D)   (None, 56, 56, 128)       0         \n",
      "_________________________________________________________________\n",
      "block3_conv1 (Conv2D)        (None, 56, 56, 256)       295168    \n",
      "_________________________________________________________________\n",
      "block3_conv2 (Conv2D)        (None, 56, 56, 256)       590080    \n",
      "_________________________________________________________________\n",
      "block3_conv3 (Conv2D)        (None, 56, 56, 256)       590080    \n",
      "_________________________________________________________________\n",
      "block3_pool (MaxPooling2D)   (None, 28, 28, 256)       0         \n",
      "_________________________________________________________________\n",
      "block4_conv1 (Conv2D)        (None, 28, 28, 512)       1180160   \n",
      "_________________________________________________________________\n",
      "block4_conv2 (Conv2D)        (None, 28, 28, 512)       2359808   \n",
      "_________________________________________________________________\n",
      "block4_conv3 (Conv2D)        (None, 28, 28, 512)       2359808   \n",
      "_________________________________________________________________\n",
      "block4_pool (MaxPooling2D)   (None, 14, 14, 512)       0         \n",
      "_________________________________________________________________\n",
      "block5_conv1 (Conv2D)        (None, 14, 14, 512)       2359808   \n",
      "_________________________________________________________________\n",
      "block5_conv2 (Conv2D)        (None, 14, 14, 512)       2359808   \n",
      "_________________________________________________________________\n",
      "block5_conv3 (Conv2D)        (None, 14, 14, 512)       2359808   \n",
      "_________________________________________________________________\n",
      "block5_pool (MaxPooling2D)   (None, 7, 7, 512)         0         \n",
      "_________________________________________________________________\n",
      "flatten (Flatten)            (None, 25088)             0         \n",
      "_________________________________________________________________\n",
      "fc1 (Dense)                  (None, 4096)              102764544 \n",
      "_________________________________________________________________\n",
      "fc2 (Dense)                  (None, 4096)              16781312  \n",
      "_________________________________________________________________\n",
      "predictions (Dense)          (None, 1000)              4097000   \n",
      "=================================================================\n",
      "Total params: 138,357,544\n",
      "Trainable params: 138,357,544\n",
      "Non-trainable params: 0\n",
      "_________________________________________________________________\n"
     ]
    }
   ],
   "source": [
    "# build the VGG16 network\n",
    "model = VGG16(include_top=True, weights='imagenet')\n",
    "model.summary()"
   ]
  },
  {
   "cell_type": "markdown",
   "metadata": {},
   "source": [
    "Se tomara la capa 5 para realizar el proceso de **Trasnfer Learning**, asi que se determianra el Shape adecuado para dicho tranfer."
   ]
  },
  {
   "cell_type": "code",
   "execution_count": 67,
   "metadata": {},
   "outputs": [],
   "source": [
    "transfer_layer_vgg = model.get_layer('block5_pool')"
   ]
  },
  {
   "cell_type": "code",
   "execution_count": 68,
   "metadata": {},
   "outputs": [
    {
     "data": {
      "text/plain": [
       "<tf.Tensor 'block5_pool_3/MaxPool:0' shape=(?, 7, 7, 512) dtype=float32>"
      ]
     },
     "execution_count": 68,
     "metadata": {},
     "output_type": "execute_result"
    }
   ],
   "source": [
    "transfer_layer_vgg.output"
   ]
  },
  {
   "cell_type": "code",
   "execution_count": 69,
   "metadata": {},
   "outputs": [
    {
     "data": {
      "text/plain": [
       "(224, 224)"
      ]
     },
     "execution_count": 69,
     "metadata": {},
     "output_type": "execute_result"
    }
   ],
   "source": [
    "input_shape = model.layers[0].output_shape[1:3]\n",
    "input_shape"
   ]
  },
  {
   "cell_type": "code",
   "execution_count": 70,
   "metadata": {},
   "outputs": [
    {
     "name": "stdout",
     "output_type": "stream",
     "text": [
      "_________________________________________________________________\n",
      "Layer (type)                 Output Shape              Param #   \n",
      "=================================================================\n",
      "input_2 (InputLayer)         (None, 224, 224, 3)       0         \n",
      "_________________________________________________________________\n",
      "block1_conv1 (Conv2D)        (None, 224, 224, 64)      1792      \n",
      "_________________________________________________________________\n",
      "block1_conv2 (Conv2D)        (None, 224, 224, 64)      36928     \n",
      "_________________________________________________________________\n",
      "block1_pool (MaxPooling2D)   (None, 112, 112, 64)      0         \n",
      "_________________________________________________________________\n",
      "block2_conv1 (Conv2D)        (None, 112, 112, 128)     73856     \n",
      "_________________________________________________________________\n",
      "block2_conv2 (Conv2D)        (None, 112, 112, 128)     147584    \n",
      "_________________________________________________________________\n",
      "block2_pool (MaxPooling2D)   (None, 56, 56, 128)       0         \n",
      "_________________________________________________________________\n",
      "block3_conv1 (Conv2D)        (None, 56, 56, 256)       295168    \n",
      "_________________________________________________________________\n",
      "block3_conv2 (Conv2D)        (None, 56, 56, 256)       590080    \n",
      "_________________________________________________________________\n",
      "block3_conv3 (Conv2D)        (None, 56, 56, 256)       590080    \n",
      "_________________________________________________________________\n",
      "block3_pool (MaxPooling2D)   (None, 28, 28, 256)       0         \n",
      "_________________________________________________________________\n",
      "block4_conv1 (Conv2D)        (None, 28, 28, 512)       1180160   \n",
      "_________________________________________________________________\n",
      "block4_conv2 (Conv2D)        (None, 28, 28, 512)       2359808   \n",
      "_________________________________________________________________\n",
      "block4_conv3 (Conv2D)        (None, 28, 28, 512)       2359808   \n",
      "_________________________________________________________________\n",
      "block4_pool (MaxPooling2D)   (None, 14, 14, 512)       0         \n",
      "_________________________________________________________________\n",
      "block5_conv1 (Conv2D)        (None, 14, 14, 512)       2359808   \n",
      "_________________________________________________________________\n",
      "block5_conv2 (Conv2D)        (None, 14, 14, 512)       2359808   \n",
      "_________________________________________________________________\n",
      "block5_conv3 (Conv2D)        (None, 14, 14, 512)       2359808   \n",
      "_________________________________________________________________\n",
      "block5_pool (MaxPooling2D)   (None, 7, 7, 512)         0         \n",
      "_________________________________________________________________\n",
      "flatten (Flatten)            (None, 25088)             0         \n",
      "_________________________________________________________________\n",
      "fc1 (Dense)                  (None, 4096)              102764544 \n",
      "_________________________________________________________________\n",
      "fc2 (Dense)                  (None, 4096)              16781312  \n",
      "_________________________________________________________________\n",
      "predictions (Dense)          (None, 1000)              4097000   \n",
      "=================================================================\n",
      "Total params: 138,357,544\n",
      "Trainable params: 138,357,544\n",
      "Non-trainable params: 0\n",
      "_________________________________________________________________\n"
     ]
    }
   ],
   "source": [
    "model.summary()"
   ]
  },
  {
   "cell_type": "code",
   "execution_count": 71,
   "metadata": {},
   "outputs": [],
   "source": [
    "transfer_layer = model.get_layer('block5_pool')"
   ]
  },
  {
   "cell_type": "code",
   "execution_count": 72,
   "metadata": {},
   "outputs": [
    {
     "data": {
      "text/plain": [
       "<tf.Tensor 'block5_pool_3/MaxPool:0' shape=(?, 7, 7, 512) dtype=float32>"
      ]
     },
     "execution_count": 72,
     "metadata": {},
     "output_type": "execute_result"
    }
   ],
   "source": [
    "transfer_layer.output"
   ]
  },
  {
   "cell_type": "markdown",
   "metadata": {},
   "source": [
    "Con el siguiente cogido se acotara el modelo."
   ]
  },
  {
   "cell_type": "code",
   "execution_count": 73,
   "metadata": {},
   "outputs": [],
   "source": [
    "conv_model = Model(inputs=model.input,\n",
    "                   outputs=transfer_layer.output)"
   ]
  },
  {
   "cell_type": "code",
   "execution_count": 74,
   "metadata": {},
   "outputs": [
    {
     "name": "stdout",
     "output_type": "stream",
     "text": [
      "_________________________________________________________________\n",
      "Layer (type)                 Output Shape              Param #   \n",
      "=================================================================\n",
      "input_2 (InputLayer)         (None, 224, 224, 3)       0         \n",
      "_________________________________________________________________\n",
      "block1_conv1 (Conv2D)        (None, 224, 224, 64)      1792      \n",
      "_________________________________________________________________\n",
      "block1_conv2 (Conv2D)        (None, 224, 224, 64)      36928     \n",
      "_________________________________________________________________\n",
      "block1_pool (MaxPooling2D)   (None, 112, 112, 64)      0         \n",
      "_________________________________________________________________\n",
      "block2_conv1 (Conv2D)        (None, 112, 112, 128)     73856     \n",
      "_________________________________________________________________\n",
      "block2_conv2 (Conv2D)        (None, 112, 112, 128)     147584    \n",
      "_________________________________________________________________\n",
      "block2_pool (MaxPooling2D)   (None, 56, 56, 128)       0         \n",
      "_________________________________________________________________\n",
      "block3_conv1 (Conv2D)        (None, 56, 56, 256)       295168    \n",
      "_________________________________________________________________\n",
      "block3_conv2 (Conv2D)        (None, 56, 56, 256)       590080    \n",
      "_________________________________________________________________\n",
      "block3_conv3 (Conv2D)        (None, 56, 56, 256)       590080    \n",
      "_________________________________________________________________\n",
      "block3_pool (MaxPooling2D)   (None, 28, 28, 256)       0         \n",
      "_________________________________________________________________\n",
      "block4_conv1 (Conv2D)        (None, 28, 28, 512)       1180160   \n",
      "_________________________________________________________________\n",
      "block4_conv2 (Conv2D)        (None, 28, 28, 512)       2359808   \n",
      "_________________________________________________________________\n",
      "block4_conv3 (Conv2D)        (None, 28, 28, 512)       2359808   \n",
      "_________________________________________________________________\n",
      "block4_pool (MaxPooling2D)   (None, 14, 14, 512)       0         \n",
      "_________________________________________________________________\n",
      "block5_conv1 (Conv2D)        (None, 14, 14, 512)       2359808   \n",
      "_________________________________________________________________\n",
      "block5_conv2 (Conv2D)        (None, 14, 14, 512)       2359808   \n",
      "_________________________________________________________________\n",
      "block5_conv3 (Conv2D)        (None, 14, 14, 512)       2359808   \n",
      "_________________________________________________________________\n",
      "block5_pool (MaxPooling2D)   (None, 7, 7, 512)         0         \n",
      "=================================================================\n",
      "Total params: 14,714,688\n",
      "Trainable params: 14,714,688\n",
      "Non-trainable params: 0\n",
      "_________________________________________________________________\n"
     ]
    }
   ],
   "source": [
    "conv_model.summary()"
   ]
  },
  {
   "cell_type": "markdown",
   "metadata": {},
   "source": [
    "En este punto se hara el modelo de \"Transfer Learning\""
   ]
  },
  {
   "cell_type": "code",
   "execution_count": 77,
   "metadata": {},
   "outputs": [],
   "source": [
    "# Start a new Keras Sequential model.\n",
    "new_model = Sequential()\n",
    "\n",
    "# Add the convolutional part of the VGG16 model from above.\n",
    "new_model.add(conv_model)\n",
    "\n",
    "# Flatten the output of the VGG16 model because it is from a\n",
    "# convolutional layer.\n",
    "new_model.add(Flatten())\n",
    "\n",
    "# Add a dense (aka. fully-connected) layer.\n",
    "# This is for combining features that the VGG16 model has\n",
    "# recognized in the image.\n",
    "new_model.add(Dense(512, activation='relu'))\n",
    "\n",
    "# Add a dropout-layer which may prevent overfitting and\n",
    "# improve generalization ability to unseen data e.g. the test-set.\n",
    "new_model.add(Dropout(0.5))\n",
    "\n",
    "# Add the final layer for the actual classification.\n",
    "new_model.add(Dense(6, activation='softmax'))"
   ]
  },
  {
   "cell_type": "code",
   "execution_count": 78,
   "metadata": {},
   "outputs": [],
   "source": [
    "def print_layer_trainable():\n",
    "    for layer in conv_model.layers:\n",
    "        print(\"{0}:\\t{1}\".format(layer.trainable, layer.name))"
   ]
  },
  {
   "cell_type": "code",
   "execution_count": 79,
   "metadata": {},
   "outputs": [
    {
     "name": "stdout",
     "output_type": "stream",
     "text": [
      "True:\tinput_2\n",
      "True:\tblock1_conv1\n",
      "True:\tblock1_conv2\n",
      "True:\tblock1_pool\n",
      "True:\tblock2_conv1\n",
      "True:\tblock2_conv2\n",
      "True:\tblock2_pool\n",
      "True:\tblock3_conv1\n",
      "True:\tblock3_conv2\n",
      "True:\tblock3_conv3\n",
      "True:\tblock3_pool\n",
      "True:\tblock4_conv1\n",
      "True:\tblock4_conv2\n",
      "True:\tblock4_conv3\n",
      "True:\tblock4_pool\n",
      "True:\tblock5_conv1\n",
      "True:\tblock5_conv2\n",
      "True:\tblock5_conv3\n",
      "True:\tblock5_pool\n"
     ]
    }
   ],
   "source": [
    "print_layer_trainable()"
   ]
  },
  {
   "cell_type": "code",
   "execution_count": 80,
   "metadata": {},
   "outputs": [],
   "source": [
    "conv_model.trainable = False"
   ]
  },
  {
   "cell_type": "code",
   "execution_count": 81,
   "metadata": {},
   "outputs": [],
   "source": [
    "for layer in conv_model.layers:\n",
    "    layer.trainable = False"
   ]
  },
  {
   "cell_type": "code",
   "execution_count": 83,
   "metadata": {},
   "outputs": [
    {
     "name": "stdout",
     "output_type": "stream",
     "text": [
      "False:\tinput_2\n",
      "False:\tblock1_conv1\n",
      "False:\tblock1_conv2\n",
      "False:\tblock1_pool\n",
      "False:\tblock2_conv1\n",
      "False:\tblock2_conv2\n",
      "False:\tblock2_pool\n",
      "False:\tblock3_conv1\n",
      "False:\tblock3_conv2\n",
      "False:\tblock3_conv3\n",
      "False:\tblock3_pool\n",
      "False:\tblock4_conv1\n",
      "False:\tblock4_conv2\n",
      "False:\tblock4_conv3\n",
      "False:\tblock4_pool\n",
      "False:\tblock5_conv1\n",
      "False:\tblock5_conv2\n",
      "False:\tblock5_conv3\n",
      "False:\tblock5_pool\n"
     ]
    }
   ],
   "source": [
    "print_layer_trainable()"
   ]
  },
  {
   "cell_type": "code",
   "execution_count": 96,
   "metadata": {},
   "outputs": [],
   "source": [
    "new_model.compile(\"rmsprop\", loss=\"categorical_crossentropy\", metrics=[\"accuracy\"])"
   ]
  },
  {
   "cell_type": "code",
   "execution_count": 97,
   "metadata": {},
   "outputs": [
    {
     "name": "stdout",
     "output_type": "stream",
     "text": [
      "_________________________________________________________________\n",
      "Layer (type)                 Output Shape              Param #   \n",
      "=================================================================\n",
      "model_6 (Model)              (None, 7, 7, 512)         14714688  \n",
      "_________________________________________________________________\n",
      "flatten_2 (Flatten)          (None, 25088)             0         \n",
      "_________________________________________________________________\n",
      "dense_3 (Dense)              (None, 512)               12845568  \n",
      "_________________________________________________________________\n",
      "dropout_2 (Dropout)          (None, 512)               0         \n",
      "_________________________________________________________________\n",
      "dense_4 (Dense)              (None, 6)                 3078      \n",
      "=================================================================\n",
      "Total params: 27,563,334\n",
      "Trainable params: 12,848,646\n",
      "Non-trainable params: 14,714,688\n",
      "_________________________________________________________________\n"
     ]
    }
   ],
   "source": [
    "new_model.summary()"
   ]
  },
  {
   "cell_type": "code",
   "execution_count": 94,
   "metadata": {},
   "outputs": [
    {
     "data": {
      "text/plain": [
       "(420, 224, 224, 3)"
      ]
     },
     "execution_count": 94,
     "metadata": {},
     "output_type": "execute_result"
    }
   ],
   "source": [
    "X_train.shape"
   ]
  },
  {
   "cell_type": "markdown",
   "metadata": {},
   "source": [
    "Para efecto de aguilidad en el desarrollo del modelo, se realizara una corrida con 2 epochs"
   ]
  },
  {
   "cell_type": "code",
   "execution_count": 99,
   "metadata": {},
   "outputs": [
    {
     "name": "stdout",
     "output_type": "stream",
     "text": [
      "Epoch 1/2\n",
      " - 394s - loss: 12.0549 - acc: 0.2238\n",
      "Epoch 2/2\n",
      " - 382s - loss: 10.2679 - acc: 0.3286\n"
     ]
    },
    {
     "data": {
      "text/plain": [
       "<tensorflow.python.keras._impl.keras.callbacks.History at 0x1824591a90>"
      ]
     },
     "execution_count": 99,
     "metadata": {},
     "output_type": "execute_result"
    }
   ],
   "source": [
    "new_model.fit(X_train,Y_train,epochs=2,verbose=2)"
   ]
  },
  {
   "cell_type": "code",
   "execution_count": 101,
   "metadata": {},
   "outputs": [
    {
     "data": {
      "text/plain": [
       "array([5, 4, 5, 5, 5, 2, 5, 4, 5, 5, 2, 5, 5, 5, 5, 5, 5, 2, 5, 5, 5, 5, 5,\n",
       "       5, 2, 5, 2, 5, 5, 5, 5, 5, 5, 2, 5, 4, 5, 5, 5, 2, 5, 5, 5, 5, 5, 5,\n",
       "       4, 5, 2, 4, 5, 2, 5, 5, 5, 5, 2, 5, 5, 5, 5, 5, 5, 5, 5, 5, 5, 5, 5,\n",
       "       2, 4, 4, 4, 5, 5, 5, 2, 2, 5, 4, 2, 4, 5, 5, 4, 5, 5, 2, 5, 5, 5, 5,\n",
       "       5, 5, 2, 2, 2, 5, 5, 5, 2, 2, 5, 5, 5, 4, 5, 2, 2, 4, 5, 4, 5, 5, 5,\n",
       "       2, 5, 5, 4, 4, 5, 5, 5, 5, 5, 5, 5, 5, 5, 4, 5, 5, 5, 5, 4, 1, 5, 5,\n",
       "       5, 5, 2, 2, 5, 5, 5, 5, 4, 4, 5, 5, 5, 5, 5, 2, 5, 5, 5, 4, 5, 5, 5,\n",
       "       2, 5, 4, 5, 5, 5, 2, 5, 5, 2, 2, 5, 4, 5, 2, 5, 2, 5, 2])"
      ]
     },
     "execution_count": 101,
     "metadata": {},
     "output_type": "execute_result"
    }
   ],
   "source": [
    "# make predictions for testing set\n",
    "y_pred_tran = new_model.predict_classes(X_test)\n",
    "y_pred_tran"
   ]
  },
  {
   "cell_type": "code",
   "execution_count": 106,
   "metadata": {},
   "outputs": [
    {
     "data": {
      "text/plain": [
       "array([1, 4, 5, 0, 1, 2, 0, 4, 0, 3, 0, 1, 1, 5, 3, 2, 0, 2, 1, 0, 0, 5, 5,\n",
       "       5, 3, 5, 0, 1, 5, 4, 5, 1, 0, 2, 1, 4, 1, 5, 4, 2, 3, 0, 5, 5, 0, 1,\n",
       "       4, 1, 0, 4, 2, 2, 1, 5, 5, 3, 2, 1, 1, 1, 0, 1, 3, 5, 5, 0, 5, 5, 0,\n",
       "       3, 3, 0, 4, 3, 4, 5, 3, 2, 5, 4, 2, 4, 5, 3, 0, 0, 1, 2, 3, 2, 2, 5,\n",
       "       0, 3, 2, 2, 2, 0, 4, 0, 0, 2, 5, 3, 0, 4, 1, 2, 2, 4, 1, 4, 5, 5, 3,\n",
       "       3, 3, 1, 4, 4, 1, 0, 3, 5, 1, 1, 5, 2, 5, 4, 0, 5, 1, 1, 4, 1, 0, 0,\n",
       "       2, 0, 0, 2, 1, 0, 4, 1, 3, 4, 0, 0, 5, 5, 3, 3, 5, 2, 0, 4, 1, 0, 3,\n",
       "       2, 0, 4, 3, 1, 2, 2, 5, 3, 2, 2, 5, 4, 1, 0, 4, 0, 0, 2])"
      ]
     },
     "execution_count": 106,
     "metadata": {},
     "output_type": "execute_result"
    }
   ],
   "source": [
    "Y_test_new=Y_test.argmax(axis=1)\n",
    "Y_test_new"
   ]
  },
  {
   "cell_type": "code",
   "execution_count": 107,
   "metadata": {},
   "outputs": [
    {
     "name": "stdout",
     "output_type": "stream",
     "text": [
      "The accuracy of the model is  0.411111111111\n"
     ]
    }
   ],
   "source": [
    "print('The accuracy of the model is ',(y_pred_tran==Y_test_new).mean())"
   ]
  },
  {
   "cell_type": "markdown",
   "metadata": {},
   "source": [
    "### A continuacion se procedera con el Fine-Tune del modelo\n",
    "\n",
    "Se realizara la configuracion del modelo para permitir la modificacion de los pesos del modelo pre-entrenado y adicionalmente se configuraran las capas adicionales que se configuraron anteriomente."
   ]
  },
  {
   "cell_type": "code",
   "execution_count": 108,
   "metadata": {},
   "outputs": [],
   "source": [
    "conv_model.trainable = True"
   ]
  },
  {
   "cell_type": "code",
   "execution_count": 109,
   "metadata": {},
   "outputs": [],
   "source": [
    "for layer in conv_model.layers:\n",
    "    # Boolean whether this layer is trainable.\n",
    "    trainable = ('block5' in layer.name or 'block4' in layer.name)\n",
    "    \n",
    "    # Set the layer's bool.\n",
    "    layer.trainable = trainable"
   ]
  },
  {
   "cell_type": "code",
   "execution_count": 110,
   "metadata": {},
   "outputs": [
    {
     "name": "stdout",
     "output_type": "stream",
     "text": [
      "False:\tinput_2\n",
      "False:\tblock1_conv1\n",
      "False:\tblock1_conv2\n",
      "False:\tblock1_pool\n",
      "False:\tblock2_conv1\n",
      "False:\tblock2_conv2\n",
      "False:\tblock2_pool\n",
      "False:\tblock3_conv1\n",
      "False:\tblock3_conv2\n",
      "False:\tblock3_conv3\n",
      "False:\tblock3_pool\n",
      "True:\tblock4_conv1\n",
      "True:\tblock4_conv2\n",
      "True:\tblock4_conv3\n",
      "True:\tblock4_pool\n",
      "True:\tblock5_conv1\n",
      "True:\tblock5_conv2\n",
      "True:\tblock5_conv3\n",
      "True:\tblock5_pool\n"
     ]
    }
   ],
   "source": [
    "print_layer_trainable()"
   ]
  },
  {
   "cell_type": "code",
   "execution_count": 111,
   "metadata": {},
   "outputs": [],
   "source": [
    "rmsprop=RMSprop(lr=0.001)"
   ]
  },
  {
   "cell_type": "code",
   "execution_count": 113,
   "metadata": {},
   "outputs": [],
   "source": [
    "new_model.compile(optimizer=rmsprop, loss=\"categorical_crossentropy\", metrics=[\"accuracy\"])"
   ]
  },
  {
   "cell_type": "code",
   "execution_count": 114,
   "metadata": {},
   "outputs": [
    {
     "name": "stdout",
     "output_type": "stream",
     "text": [
      "Epoch 1/2\n",
      " - 626s - loss: 13.0843 - acc: 0.1857\n",
      "Epoch 2/2\n",
      " - 604s - loss: 13.4317 - acc: 0.1667\n"
     ]
    },
    {
     "data": {
      "text/plain": [
       "<tensorflow.python.keras._impl.keras.callbacks.History at 0x1827105da0>"
      ]
     },
     "execution_count": 114,
     "metadata": {},
     "output_type": "execute_result"
    }
   ],
   "source": [
    "new_model.fit(X_train,Y_train,epochs=2,verbose=2)"
   ]
  },
  {
   "cell_type": "code",
   "execution_count": null,
   "metadata": {},
   "outputs": [],
   "source": [
    "# make predictions for testing set\n",
    "y_pred_ft = new_model.predict_classes(X_test)"
   ]
  },
  {
   "cell_type": "code",
   "execution_count": 116,
   "metadata": {},
   "outputs": [
    {
     "name": "stdout",
     "output_type": "stream",
     "text": [
      "The accuracy of the model is  0.172222222222\n"
     ]
    }
   ],
   "source": [
    "print('The accuracy of the model is ',(y_pred_ft==Y_test_new).mean())"
   ]
  },
  {
   "cell_type": "markdown",
   "metadata": {},
   "source": [
    "### 3.1. Modelo con Fine Tuning CONCLUSIONES\n",
    "\n",
    "Al correr los dos modelos y comparar los respectivos Accuracy, se peude evidenciar que el modelo Fine-Tune tiende a perder casi un 50% de Accuracy respecto al modelo de Transfer Learning. Esto se puede dar debiado a que el modelo de Fine-Tune puede llegar a generar Overfitting y no funcionar tener un buen rendimiento en datos de test."
   ]
  },
  {
   "cell_type": "markdown",
   "metadata": {},
   "source": [
    "### CONCLUSIONES GENERALES"
   ]
  },
  {
   "cell_type": "markdown",
   "metadata": {},
   "source": [
    "* Para este conjunto de datos y partiendo de la configuración plasmada en los modelos desarrollados por el equipo, se evidencia que el modelo VGG16 por si solo es un excelente predictor. Con los modelos de transfer learning se evidencia que se puede tener resultados similares o mejores en algunas corridas. Pero para el modelo de Fine-tune definitivamente no se evidencia un buen rendimiento a la hora de predecir, de hecho computacionalmente es mas lento debido a la configuracion de velocidad de aprendizaje, pero hablando netamene de la medida de rendimiento, su Accuracy es bastante menor a los obtenidos por los modelos anteriores."
   ]
  }
 ],
 "metadata": {
  "kernelspec": {
   "display_name": "Python 3",
   "language": "python",
   "name": "python3"
  },
  "language_info": {
   "codemirror_mode": {
    "name": "ipython",
    "version": 3
   },
   "file_extension": ".py",
   "mimetype": "text/x-python",
   "name": "python",
   "nbconvert_exporter": "python",
   "pygments_lexer": "ipython3",
   "version": "3.6.3"
  }
 },
 "nbformat": 4,
 "nbformat_minor": 2
}
